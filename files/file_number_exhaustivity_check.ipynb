{
 "cells": [
  {
   "cell_type": "code",
   "execution_count": 1,
   "id": "80b4909d",
   "metadata": {},
   "outputs": [],
   "source": [
    "import pandas as pd\n",
    "import glob"
   ]
  },
  {
   "cell_type": "markdown",
   "id": "4a3e1ba4",
   "metadata": {},
   "source": [
    "# I. List of tse_bi"
   ]
  },
  {
   "cell_type": "code",
   "execution_count": 2,
   "id": "4f591fa8",
   "metadata": {},
   "outputs": [
    {
     "data": {
      "text/html": [
       "<div>\n",
       "<style scoped>\n",
       "    .dataframe tbody tr th:only-of-type {\n",
       "        vertical-align: middle;\n",
       "    }\n",
       "\n",
       "    .dataframe tbody tr th {\n",
       "        vertical-align: top;\n",
       "    }\n",
       "\n",
       "    .dataframe thead th {\n",
       "        text-align: right;\n",
       "    }\n",
       "</style>\n",
       "<table border=\"1\" class=\"dataframe\">\n",
       "  <thead>\n",
       "    <tr style=\"text-align: right;\">\n",
       "      <th></th>\n",
       "      <th>tse_bi</th>\n",
       "    </tr>\n",
       "  </thead>\n",
       "  <tbody>\n",
       "    <tr>\n",
       "      <th>0</th>\n",
       "      <td>data/data_pl/PAT_7/PAT_7_Annotations_EEG_38.ts...</td>\n",
       "    </tr>\n",
       "    <tr>\n",
       "      <th>1</th>\n",
       "      <td>data/data_pl/PAT_7/PAT_7_Annotations_EEG_45.ts...</td>\n",
       "    </tr>\n",
       "    <tr>\n",
       "      <th>2</th>\n",
       "      <td>data/data_pl/PAT_7/PAT_7_Annotations_EEG_58.ts...</td>\n",
       "    </tr>\n",
       "    <tr>\n",
       "      <th>3</th>\n",
       "      <td>data/data_pl/PAT_7/PAT_7_Annotations_EEG_61.ts...</td>\n",
       "    </tr>\n",
       "    <tr>\n",
       "      <th>4</th>\n",
       "      <td>data/data_pl/PAT_7/PAT_7_Annotations_EEG_66.ts...</td>\n",
       "    </tr>\n",
       "  </tbody>\n",
       "</table>\n",
       "</div>"
      ],
      "text/plain": [
       "                                              tse_bi\n",
       "0  data/data_pl/PAT_7/PAT_7_Annotations_EEG_38.ts...\n",
       "1  data/data_pl/PAT_7/PAT_7_Annotations_EEG_45.ts...\n",
       "2  data/data_pl/PAT_7/PAT_7_Annotations_EEG_58.ts...\n",
       "3  data/data_pl/PAT_7/PAT_7_Annotations_EEG_61.ts...\n",
       "4  data/data_pl/PAT_7/PAT_7_Annotations_EEG_66.ts..."
      ]
     },
     "execution_count": 2,
     "metadata": {},
     "output_type": "execute_result"
    }
   ],
   "source": [
    "df_tse = pd.DataFrame(glob.glob('data/data_pl/*/*.tse_bi'))\n",
    "df_tse.columns = ['tse_bi']\n",
    "df_tse.head()"
   ]
  },
  {
   "cell_type": "code",
   "execution_count": 3,
   "id": "27f77d36",
   "metadata": {},
   "outputs": [
    {
     "data": {
      "text/html": [
       "<div>\n",
       "<style scoped>\n",
       "    .dataframe tbody tr th:only-of-type {\n",
       "        vertical-align: middle;\n",
       "    }\n",
       "\n",
       "    .dataframe tbody tr th {\n",
       "        vertical-align: top;\n",
       "    }\n",
       "\n",
       "    .dataframe thead th {\n",
       "        text-align: right;\n",
       "    }\n",
       "</style>\n",
       "<table border=\"1\" class=\"dataframe\">\n",
       "  <thead>\n",
       "    <tr style=\"text-align: right;\">\n",
       "      <th></th>\n",
       "      <th>tse_bi</th>\n",
       "      <th>file</th>\n",
       "      <th>patient</th>\n",
       "      <th>record</th>\n",
       "      <th>id</th>\n",
       "    </tr>\n",
       "  </thead>\n",
       "  <tbody>\n",
       "    <tr>\n",
       "      <th>0</th>\n",
       "      <td>data/data_pl/PAT_7/PAT_7_Annotations_EEG_38.ts...</td>\n",
       "      <td>PAT_7_Annotations_EEG_38.tse_bi</td>\n",
       "      <td>PAT_7</td>\n",
       "      <td>38</td>\n",
       "      <td>PAT_7_38</td>\n",
       "    </tr>\n",
       "    <tr>\n",
       "      <th>1</th>\n",
       "      <td>data/data_pl/PAT_7/PAT_7_Annotations_EEG_45.ts...</td>\n",
       "      <td>PAT_7_Annotations_EEG_45.tse_bi</td>\n",
       "      <td>PAT_7</td>\n",
       "      <td>45</td>\n",
       "      <td>PAT_7_45</td>\n",
       "    </tr>\n",
       "    <tr>\n",
       "      <th>2</th>\n",
       "      <td>data/data_pl/PAT_7/PAT_7_Annotations_EEG_58.ts...</td>\n",
       "      <td>PAT_7_Annotations_EEG_58.tse_bi</td>\n",
       "      <td>PAT_7</td>\n",
       "      <td>58</td>\n",
       "      <td>PAT_7_58</td>\n",
       "    </tr>\n",
       "    <tr>\n",
       "      <th>3</th>\n",
       "      <td>data/data_pl/PAT_7/PAT_7_Annotations_EEG_61.ts...</td>\n",
       "      <td>PAT_7_Annotations_EEG_61.tse_bi</td>\n",
       "      <td>PAT_7</td>\n",
       "      <td>61</td>\n",
       "      <td>PAT_7_61</td>\n",
       "    </tr>\n",
       "    <tr>\n",
       "      <th>4</th>\n",
       "      <td>data/data_pl/PAT_7/PAT_7_Annotations_EEG_66.ts...</td>\n",
       "      <td>PAT_7_Annotations_EEG_66.tse_bi</td>\n",
       "      <td>PAT_7</td>\n",
       "      <td>66</td>\n",
       "      <td>PAT_7_66</td>\n",
       "    </tr>\n",
       "  </tbody>\n",
       "</table>\n",
       "</div>"
      ],
      "text/plain": [
       "                                              tse_bi  \\\n",
       "0  data/data_pl/PAT_7/PAT_7_Annotations_EEG_38.ts...   \n",
       "1  data/data_pl/PAT_7/PAT_7_Annotations_EEG_45.ts...   \n",
       "2  data/data_pl/PAT_7/PAT_7_Annotations_EEG_58.ts...   \n",
       "3  data/data_pl/PAT_7/PAT_7_Annotations_EEG_61.ts...   \n",
       "4  data/data_pl/PAT_7/PAT_7_Annotations_EEG_66.ts...   \n",
       "\n",
       "                              file patient record        id  \n",
       "0  PAT_7_Annotations_EEG_38.tse_bi   PAT_7     38  PAT_7_38  \n",
       "1  PAT_7_Annotations_EEG_45.tse_bi   PAT_7     45  PAT_7_45  \n",
       "2  PAT_7_Annotations_EEG_58.tse_bi   PAT_7     58  PAT_7_58  \n",
       "3  PAT_7_Annotations_EEG_61.tse_bi   PAT_7     61  PAT_7_61  \n",
       "4  PAT_7_Annotations_EEG_66.tse_bi   PAT_7     66  PAT_7_66  "
      ]
     },
     "execution_count": 3,
     "metadata": {},
     "output_type": "execute_result"
    }
   ],
   "source": [
    "df_tse['file'] = df_tse['tse_bi'].apply(lambda x: x.split('/')[-1])\n",
    "df_tse['patient'] = df_tse['tse_bi'].apply(lambda x: x.split('/')[-2])\n",
    "df_tse['record'] = df_tse['file'].apply(lambda x: x.split('_')[-2][:-4])\n",
    "df_tse['id'] = df_tse['patient'] + '_' + df_tse['record']\n",
    "df_tse.head()"
   ]
  },
  {
   "cell_type": "code",
   "execution_count": 4,
   "id": "e45d11f8",
   "metadata": {},
   "outputs": [
    {
     "data": {
      "text/plain": [
       "(27, 5)"
      ]
     },
     "execution_count": 4,
     "metadata": {},
     "output_type": "execute_result"
    }
   ],
   "source": [
    "df_tse.shape"
   ]
  },
  {
   "cell_type": "markdown",
   "id": "c2ac7e8a",
   "metadata": {},
   "source": [
    "# II. List of edf files"
   ]
  },
  {
   "cell_type": "code",
   "execution_count": 5,
   "id": "190c4326",
   "metadata": {},
   "outputs": [],
   "source": [
    "df_edf = pd.DataFrame(glob.glob('data/data_pl/*/*.edf'))\n",
    "df_edf.columns = ['edf']"
   ]
  },
  {
   "cell_type": "code",
   "execution_count": 6,
   "id": "2bd679f7",
   "metadata": {},
   "outputs": [
    {
     "data": {
      "text/html": [
       "<div>\n",
       "<style scoped>\n",
       "    .dataframe tbody tr th:only-of-type {\n",
       "        vertical-align: middle;\n",
       "    }\n",
       "\n",
       "    .dataframe tbody tr th {\n",
       "        vertical-align: top;\n",
       "    }\n",
       "\n",
       "    .dataframe thead th {\n",
       "        text-align: right;\n",
       "    }\n",
       "</style>\n",
       "<table border=\"1\" class=\"dataframe\">\n",
       "  <thead>\n",
       "    <tr style=\"text-align: right;\">\n",
       "      <th></th>\n",
       "      <th>edf</th>\n",
       "      <th>file</th>\n",
       "      <th>patient</th>\n",
       "      <th>record</th>\n",
       "      <th>segment</th>\n",
       "      <th>id</th>\n",
       "    </tr>\n",
       "  </thead>\n",
       "  <tbody>\n",
       "    <tr>\n",
       "      <th>0</th>\n",
       "      <td>data/data_pl/PAT_7/EEG_38_s1.edf</td>\n",
       "      <td>EEG_38_s1.edf</td>\n",
       "      <td>PAT_7</td>\n",
       "      <td>38</td>\n",
       "      <td>s1</td>\n",
       "      <td>PAT_7_38_s1</td>\n",
       "    </tr>\n",
       "    <tr>\n",
       "      <th>1</th>\n",
       "      <td>data/data_pl/PAT_7/EEG_38_s2.edf</td>\n",
       "      <td>EEG_38_s2.edf</td>\n",
       "      <td>PAT_7</td>\n",
       "      <td>38</td>\n",
       "      <td>s2</td>\n",
       "      <td>PAT_7_38_s2</td>\n",
       "    </tr>\n",
       "    <tr>\n",
       "      <th>2</th>\n",
       "      <td>data/data_pl/PAT_7/EEG_38_s3.edf</td>\n",
       "      <td>EEG_38_s3.edf</td>\n",
       "      <td>PAT_7</td>\n",
       "      <td>38</td>\n",
       "      <td>s3</td>\n",
       "      <td>PAT_7_38_s3</td>\n",
       "    </tr>\n",
       "    <tr>\n",
       "      <th>3</th>\n",
       "      <td>data/data_pl/PAT_7/EEG_38_s4.edf</td>\n",
       "      <td>EEG_38_s4.edf</td>\n",
       "      <td>PAT_7</td>\n",
       "      <td>38</td>\n",
       "      <td>s4</td>\n",
       "      <td>PAT_7_38_s4</td>\n",
       "    </tr>\n",
       "    <tr>\n",
       "      <th>4</th>\n",
       "      <td>data/data_pl/PAT_7/EEG_84_s1.edf</td>\n",
       "      <td>EEG_84_s1.edf</td>\n",
       "      <td>PAT_7</td>\n",
       "      <td>84</td>\n",
       "      <td>s1</td>\n",
       "      <td>PAT_7_84_s1</td>\n",
       "    </tr>\n",
       "  </tbody>\n",
       "</table>\n",
       "</div>"
      ],
      "text/plain": [
       "                                edf           file patient record segment  \\\n",
       "0  data/data_pl/PAT_7/EEG_38_s1.edf  EEG_38_s1.edf   PAT_7     38      s1   \n",
       "1  data/data_pl/PAT_7/EEG_38_s2.edf  EEG_38_s2.edf   PAT_7     38      s2   \n",
       "2  data/data_pl/PAT_7/EEG_38_s3.edf  EEG_38_s3.edf   PAT_7     38      s3   \n",
       "3  data/data_pl/PAT_7/EEG_38_s4.edf  EEG_38_s4.edf   PAT_7     38      s4   \n",
       "4  data/data_pl/PAT_7/EEG_84_s1.edf  EEG_84_s1.edf   PAT_7     84      s1   \n",
       "\n",
       "            id  \n",
       "0  PAT_7_38_s1  \n",
       "1  PAT_7_38_s2  \n",
       "2  PAT_7_38_s3  \n",
       "3  PAT_7_38_s4  \n",
       "4  PAT_7_84_s1  "
      ]
     },
     "execution_count": 6,
     "metadata": {},
     "output_type": "execute_result"
    }
   ],
   "source": [
    "df_edf['file'] = df_edf['edf'].apply(lambda x: x.split('/')[-1])\n",
    "df_edf['patient'] = df_edf['edf'].apply(lambda x: x.split('/')[-2])\n",
    "df_edf['record'] = df_edf['file'].apply(lambda x: x.split('_')[-2])\n",
    "df_edf['segment'] = df_edf['file'].apply(lambda x: x.split('_')[-1][:-4])\n",
    "df_edf['id'] = df_edf['patient'] + '_' + df_edf['record'] + '_' + df_edf['segment']\n",
    "df_edf.head()"
   ]
  },
  {
   "cell_type": "code",
   "execution_count": 7,
   "id": "01707430",
   "metadata": {},
   "outputs": [
    {
     "data": {
      "text/plain": [
       "152"
      ]
     },
     "execution_count": 7,
     "metadata": {},
     "output_type": "execute_result"
    }
   ],
   "source": [
    "df_edf.shape[0]"
   ]
  },
  {
   "cell_type": "markdown",
   "id": "687d878c",
   "metadata": {},
   "source": [
    "# III. List of rr_intervals"
   ]
  },
  {
   "cell_type": "code",
   "execution_count": 8,
   "id": "714f6f24",
   "metadata": {},
   "outputs": [
    {
     "data": {
      "text/html": [
       "<div>\n",
       "<style scoped>\n",
       "    .dataframe tbody tr th:only-of-type {\n",
       "        vertical-align: middle;\n",
       "    }\n",
       "\n",
       "    .dataframe tbody tr th {\n",
       "        vertical-align: top;\n",
       "    }\n",
       "\n",
       "    .dataframe thead th {\n",
       "        text-align: right;\n",
       "    }\n",
       "</style>\n",
       "<table border=\"1\" class=\"dataframe\">\n",
       "  <thead>\n",
       "    <tr style=\"text-align: right;\">\n",
       "      <th></th>\n",
       "      <th>rr</th>\n",
       "    </tr>\n",
       "  </thead>\n",
       "  <tbody>\n",
       "    <tr>\n",
       "      <th>0</th>\n",
       "      <td>output/res-v0_6/PAT_7/rr_EEG_38_s1.csv</td>\n",
       "    </tr>\n",
       "    <tr>\n",
       "      <th>1</th>\n",
       "      <td>output/res-v0_6/PAT_7/rr_EEG_38_s2.csv</td>\n",
       "    </tr>\n",
       "    <tr>\n",
       "      <th>2</th>\n",
       "      <td>output/res-v0_6/PAT_7/rr_EEG_38_s3.csv</td>\n",
       "    </tr>\n",
       "    <tr>\n",
       "      <th>3</th>\n",
       "      <td>output/res-v0_6/PAT_7/rr_EEG_38_s4.csv</td>\n",
       "    </tr>\n",
       "    <tr>\n",
       "      <th>4</th>\n",
       "      <td>output/res-v0_6/PAT_7/rr_EEG_84_s1.csv</td>\n",
       "    </tr>\n",
       "  </tbody>\n",
       "</table>\n",
       "</div>"
      ],
      "text/plain": [
       "                                       rr\n",
       "0  output/res-v0_6/PAT_7/rr_EEG_38_s1.csv\n",
       "1  output/res-v0_6/PAT_7/rr_EEG_38_s2.csv\n",
       "2  output/res-v0_6/PAT_7/rr_EEG_38_s3.csv\n",
       "3  output/res-v0_6/PAT_7/rr_EEG_38_s4.csv\n",
       "4  output/res-v0_6/PAT_7/rr_EEG_84_s1.csv"
      ]
     },
     "execution_count": 8,
     "metadata": {},
     "output_type": "execute_result"
    }
   ],
   "source": [
    "df_rr = pd.DataFrame(glob.glob('output/res-v0_6/*/*.csv'))\n",
    "df_rr.columns = ['rr']\n",
    "df_rr.head()"
   ]
  },
  {
   "cell_type": "code",
   "execution_count": 9,
   "id": "249a3d2a",
   "metadata": {},
   "outputs": [
    {
     "data": {
      "text/html": [
       "<div>\n",
       "<style scoped>\n",
       "    .dataframe tbody tr th:only-of-type {\n",
       "        vertical-align: middle;\n",
       "    }\n",
       "\n",
       "    .dataframe tbody tr th {\n",
       "        vertical-align: top;\n",
       "    }\n",
       "\n",
       "    .dataframe thead th {\n",
       "        text-align: right;\n",
       "    }\n",
       "</style>\n",
       "<table border=\"1\" class=\"dataframe\">\n",
       "  <thead>\n",
       "    <tr style=\"text-align: right;\">\n",
       "      <th></th>\n",
       "      <th>rr</th>\n",
       "      <th>file</th>\n",
       "      <th>patient</th>\n",
       "      <th>record</th>\n",
       "      <th>segment</th>\n",
       "      <th>id</th>\n",
       "    </tr>\n",
       "  </thead>\n",
       "  <tbody>\n",
       "    <tr>\n",
       "      <th>0</th>\n",
       "      <td>output/res-v0_6/PAT_7/rr_EEG_38_s1.csv</td>\n",
       "      <td>rr_EEG_38_s1.csv</td>\n",
       "      <td>PAT_7</td>\n",
       "      <td>38</td>\n",
       "      <td>s1</td>\n",
       "      <td>PAT_7_38_s1</td>\n",
       "    </tr>\n",
       "    <tr>\n",
       "      <th>1</th>\n",
       "      <td>output/res-v0_6/PAT_7/rr_EEG_38_s2.csv</td>\n",
       "      <td>rr_EEG_38_s2.csv</td>\n",
       "      <td>PAT_7</td>\n",
       "      <td>38</td>\n",
       "      <td>s2</td>\n",
       "      <td>PAT_7_38_s2</td>\n",
       "    </tr>\n",
       "    <tr>\n",
       "      <th>2</th>\n",
       "      <td>output/res-v0_6/PAT_7/rr_EEG_38_s3.csv</td>\n",
       "      <td>rr_EEG_38_s3.csv</td>\n",
       "      <td>PAT_7</td>\n",
       "      <td>38</td>\n",
       "      <td>s3</td>\n",
       "      <td>PAT_7_38_s3</td>\n",
       "    </tr>\n",
       "    <tr>\n",
       "      <th>3</th>\n",
       "      <td>output/res-v0_6/PAT_7/rr_EEG_38_s4.csv</td>\n",
       "      <td>rr_EEG_38_s4.csv</td>\n",
       "      <td>PAT_7</td>\n",
       "      <td>38</td>\n",
       "      <td>s4</td>\n",
       "      <td>PAT_7_38_s4</td>\n",
       "    </tr>\n",
       "    <tr>\n",
       "      <th>4</th>\n",
       "      <td>output/res-v0_6/PAT_7/rr_EEG_84_s1.csv</td>\n",
       "      <td>rr_EEG_84_s1.csv</td>\n",
       "      <td>PAT_7</td>\n",
       "      <td>84</td>\n",
       "      <td>s1</td>\n",
       "      <td>PAT_7_84_s1</td>\n",
       "    </tr>\n",
       "  </tbody>\n",
       "</table>\n",
       "</div>"
      ],
      "text/plain": [
       "                                       rr              file patient record  \\\n",
       "0  output/res-v0_6/PAT_7/rr_EEG_38_s1.csv  rr_EEG_38_s1.csv   PAT_7     38   \n",
       "1  output/res-v0_6/PAT_7/rr_EEG_38_s2.csv  rr_EEG_38_s2.csv   PAT_7     38   \n",
       "2  output/res-v0_6/PAT_7/rr_EEG_38_s3.csv  rr_EEG_38_s3.csv   PAT_7     38   \n",
       "3  output/res-v0_6/PAT_7/rr_EEG_38_s4.csv  rr_EEG_38_s4.csv   PAT_7     38   \n",
       "4  output/res-v0_6/PAT_7/rr_EEG_84_s1.csv  rr_EEG_84_s1.csv   PAT_7     84   \n",
       "\n",
       "  segment           id  \n",
       "0      s1  PAT_7_38_s1  \n",
       "1      s2  PAT_7_38_s2  \n",
       "2      s3  PAT_7_38_s3  \n",
       "3      s4  PAT_7_38_s4  \n",
       "4      s1  PAT_7_84_s1  "
      ]
     },
     "execution_count": 9,
     "metadata": {},
     "output_type": "execute_result"
    }
   ],
   "source": [
    "df_rr['file'] = df_rr['rr'].apply(lambda x: x.split('/')[-1])\n",
    "df_rr['patient'] = df_rr['rr'].apply(lambda x: x.split('/')[-2])\n",
    "df_rr['record'] = df_rr['file'].apply(lambda x: x.split('_')[-2])\n",
    "df_rr['segment'] = df_rr['file'].apply(lambda x: x.split('_')[-1][:-4])\n",
    "df_rr['id'] = df_rr['patient'] + '_' + df_rr['record'] + '_' + df_rr['segment']\n",
    "df_rr.head()"
   ]
  },
  {
   "cell_type": "code",
   "execution_count": 10,
   "id": "d7be525a",
   "metadata": {},
   "outputs": [
    {
     "data": {
      "text/plain": [
       "(152, 6)"
      ]
     },
     "execution_count": 10,
     "metadata": {},
     "output_type": "execute_result"
    }
   ],
   "source": [
    "df_rr.shape"
   ]
  },
  {
   "cell_type": "code",
   "execution_count": 11,
   "id": "7605dd70",
   "metadata": {},
   "outputs": [
    {
     "data": {
      "text/plain": [
       "True"
      ]
     },
     "execution_count": 11,
     "metadata": {},
     "output_type": "execute_result"
    }
   ],
   "source": [
    "# Computation of rr from edf files\n",
    "df_rr['id'].values in df_edf['id'].values"
   ]
  },
  {
   "cell_type": "markdown",
   "id": "93583a65",
   "metadata": {},
   "source": [
    "For RR computation, 100% is ok"
   ]
  },
  {
   "cell_type": "markdown",
   "id": "26f13e03",
   "metadata": {},
   "source": [
    "# IV. features"
   ]
  },
  {
   "cell_type": "code",
   "execution_count": 12,
   "id": "87660ac0",
   "metadata": {},
   "outputs": [
    {
     "data": {
      "text/html": [
       "<div>\n",
       "<style scoped>\n",
       "    .dataframe tbody tr th:only-of-type {\n",
       "        vertical-align: middle;\n",
       "    }\n",
       "\n",
       "    .dataframe tbody tr th {\n",
       "        vertical-align: top;\n",
       "    }\n",
       "\n",
       "    .dataframe thead th {\n",
       "        text-align: right;\n",
       "    }\n",
       "</style>\n",
       "<table border=\"1\" class=\"dataframe\">\n",
       "  <thead>\n",
       "    <tr style=\"text-align: right;\">\n",
       "      <th></th>\n",
       "      <th>feats</th>\n",
       "    </tr>\n",
       "  </thead>\n",
       "  <tbody>\n",
       "    <tr>\n",
       "      <th>0</th>\n",
       "      <td>output/feats-v0_6/PAT_7/feats_EEG_38_s1.csv</td>\n",
       "    </tr>\n",
       "    <tr>\n",
       "      <th>1</th>\n",
       "      <td>output/feats-v0_6/PAT_7/feats_EEG_38_s2.csv</td>\n",
       "    </tr>\n",
       "    <tr>\n",
       "      <th>2</th>\n",
       "      <td>output/feats-v0_6/PAT_7/feats_EEG_38_s3.csv</td>\n",
       "    </tr>\n",
       "    <tr>\n",
       "      <th>3</th>\n",
       "      <td>output/feats-v0_6/PAT_7/feats_EEG_38_s4.csv</td>\n",
       "    </tr>\n",
       "    <tr>\n",
       "      <th>4</th>\n",
       "      <td>output/feats-v0_6/PAT_7/feats_EEG_84_s1.csv</td>\n",
       "    </tr>\n",
       "  </tbody>\n",
       "</table>\n",
       "</div>"
      ],
      "text/plain": [
       "                                         feats\n",
       "0  output/feats-v0_6/PAT_7/feats_EEG_38_s1.csv\n",
       "1  output/feats-v0_6/PAT_7/feats_EEG_38_s2.csv\n",
       "2  output/feats-v0_6/PAT_7/feats_EEG_38_s3.csv\n",
       "3  output/feats-v0_6/PAT_7/feats_EEG_38_s4.csv\n",
       "4  output/feats-v0_6/PAT_7/feats_EEG_84_s1.csv"
      ]
     },
     "execution_count": 12,
     "metadata": {},
     "output_type": "execute_result"
    }
   ],
   "source": [
    "df_feats = pd.DataFrame(glob.glob('output/feats-v0_6/*/*.csv'))\n",
    "df_feats.columns = ['feats']\n",
    "df_feats.head()"
   ]
  },
  {
   "cell_type": "code",
   "execution_count": 13,
   "id": "79c3b087",
   "metadata": {},
   "outputs": [
    {
     "data": {
      "text/html": [
       "<div>\n",
       "<style scoped>\n",
       "    .dataframe tbody tr th:only-of-type {\n",
       "        vertical-align: middle;\n",
       "    }\n",
       "\n",
       "    .dataframe tbody tr th {\n",
       "        vertical-align: top;\n",
       "    }\n",
       "\n",
       "    .dataframe thead th {\n",
       "        text-align: right;\n",
       "    }\n",
       "</style>\n",
       "<table border=\"1\" class=\"dataframe\">\n",
       "  <thead>\n",
       "    <tr style=\"text-align: right;\">\n",
       "      <th></th>\n",
       "      <th>feats</th>\n",
       "      <th>file</th>\n",
       "      <th>patient</th>\n",
       "      <th>record</th>\n",
       "      <th>segment</th>\n",
       "      <th>id</th>\n",
       "    </tr>\n",
       "  </thead>\n",
       "  <tbody>\n",
       "    <tr>\n",
       "      <th>0</th>\n",
       "      <td>output/feats-v0_6/PAT_7/feats_EEG_38_s1.csv</td>\n",
       "      <td>feats_EEG_38_s1.csv</td>\n",
       "      <td>PAT_7</td>\n",
       "      <td>38</td>\n",
       "      <td>s1</td>\n",
       "      <td>PAT_7_38_s1</td>\n",
       "    </tr>\n",
       "    <tr>\n",
       "      <th>1</th>\n",
       "      <td>output/feats-v0_6/PAT_7/feats_EEG_38_s2.csv</td>\n",
       "      <td>feats_EEG_38_s2.csv</td>\n",
       "      <td>PAT_7</td>\n",
       "      <td>38</td>\n",
       "      <td>s2</td>\n",
       "      <td>PAT_7_38_s2</td>\n",
       "    </tr>\n",
       "    <tr>\n",
       "      <th>2</th>\n",
       "      <td>output/feats-v0_6/PAT_7/feats_EEG_38_s3.csv</td>\n",
       "      <td>feats_EEG_38_s3.csv</td>\n",
       "      <td>PAT_7</td>\n",
       "      <td>38</td>\n",
       "      <td>s3</td>\n",
       "      <td>PAT_7_38_s3</td>\n",
       "    </tr>\n",
       "    <tr>\n",
       "      <th>3</th>\n",
       "      <td>output/feats-v0_6/PAT_7/feats_EEG_38_s4.csv</td>\n",
       "      <td>feats_EEG_38_s4.csv</td>\n",
       "      <td>PAT_7</td>\n",
       "      <td>38</td>\n",
       "      <td>s4</td>\n",
       "      <td>PAT_7_38_s4</td>\n",
       "    </tr>\n",
       "    <tr>\n",
       "      <th>4</th>\n",
       "      <td>output/feats-v0_6/PAT_7/feats_EEG_84_s1.csv</td>\n",
       "      <td>feats_EEG_84_s1.csv</td>\n",
       "      <td>PAT_7</td>\n",
       "      <td>84</td>\n",
       "      <td>s1</td>\n",
       "      <td>PAT_7_84_s1</td>\n",
       "    </tr>\n",
       "  </tbody>\n",
       "</table>\n",
       "</div>"
      ],
      "text/plain": [
       "                                         feats                 file patient  \\\n",
       "0  output/feats-v0_6/PAT_7/feats_EEG_38_s1.csv  feats_EEG_38_s1.csv   PAT_7   \n",
       "1  output/feats-v0_6/PAT_7/feats_EEG_38_s2.csv  feats_EEG_38_s2.csv   PAT_7   \n",
       "2  output/feats-v0_6/PAT_7/feats_EEG_38_s3.csv  feats_EEG_38_s3.csv   PAT_7   \n",
       "3  output/feats-v0_6/PAT_7/feats_EEG_38_s4.csv  feats_EEG_38_s4.csv   PAT_7   \n",
       "4  output/feats-v0_6/PAT_7/feats_EEG_84_s1.csv  feats_EEG_84_s1.csv   PAT_7   \n",
       "\n",
       "  record segment           id  \n",
       "0     38      s1  PAT_7_38_s1  \n",
       "1     38      s2  PAT_7_38_s2  \n",
       "2     38      s3  PAT_7_38_s3  \n",
       "3     38      s4  PAT_7_38_s4  \n",
       "4     84      s1  PAT_7_84_s1  "
      ]
     },
     "execution_count": 13,
     "metadata": {},
     "output_type": "execute_result"
    }
   ],
   "source": [
    "df_feats['file'] = df_feats['feats'].apply(lambda x: x.split('/')[-1])\n",
    "df_feats['patient'] = df_feats['feats'].apply(lambda x: x.split('/')[-2])\n",
    "df_feats['record'] = df_feats['file'].apply(lambda x: x.split('_')[-2])\n",
    "df_feats['segment'] = df_feats['file'].apply(lambda x: x.split('_')[-1][:-4])\n",
    "df_feats['id'] = df_feats['patient'] + '_' + df_feats['record'] + '_' + df_feats['segment']\n",
    "df_feats.head()"
   ]
  },
  {
   "cell_type": "code",
   "execution_count": 14,
   "id": "e8f63513",
   "metadata": {},
   "outputs": [
    {
     "data": {
      "text/plain": [
       "(152, 6)"
      ]
     },
     "execution_count": 14,
     "metadata": {},
     "output_type": "execute_result"
    }
   ],
   "source": [
    "df_feats.shape"
   ]
  },
  {
   "cell_type": "code",
   "execution_count": 15,
   "id": "50e46877",
   "metadata": {},
   "outputs": [
    {
     "data": {
      "text/plain": [
       "True"
      ]
     },
     "execution_count": 15,
     "metadata": {},
     "output_type": "execute_result"
    }
   ],
   "source": [
    "df_feats['id'].values in df_rr['id'].values"
   ]
  },
  {
   "cell_type": "markdown",
   "id": "ed2d9c6b",
   "metadata": {},
   "source": [
    "Wrong: which ones?"
   ]
  },
  {
   "cell_type": "code",
   "execution_count": 16,
   "id": "13a90ad3",
   "metadata": {},
   "outputs": [
    {
     "name": "stdout",
     "output_type": "stream",
     "text": [
      "Files missing from rr lists:\n",
      "[]\n"
     ]
    }
   ],
   "source": [
    "features_computation_issue_list = [file for file in df_rr['id'].values if file not in df_feats['id'].values]\n",
    "print('Files missing from rr lists:')\n",
    "print(features_computation_issue_list)"
   ]
  },
  {
   "cell_type": "code",
   "execution_count": 17,
   "id": "8ca09ef9",
   "metadata": {},
   "outputs": [
    {
     "name": "stdout",
     "output_type": "stream",
     "text": [
      "Missing files: 0\n"
     ]
    }
   ],
   "source": [
    "print(f'Missing files: {len(features_computation_issue_list)}')"
   ]
  },
  {
   "cell_type": "code",
   "execution_count": 18,
   "id": "51bd13de",
   "metadata": {},
   "outputs": [
    {
     "name": "stdout",
     "output_type": "stream",
     "text": [
      "[]\n"
     ]
    }
   ],
   "source": [
    "features_computation_issue_list_wo_segment = \\\n",
    "    ['_'.join(file.split('_')[:-1]) for file in features_computation_issue_list]\n",
    "print(features_computation_issue_list_wo_segment)"
   ]
  },
  {
   "cell_type": "code",
   "execution_count": 19,
   "id": "9532de24",
   "metadata": {},
   "outputs": [
    {
     "name": "stdout",
     "output_type": "stream",
     "text": [
      "Files absent not present in tse_bi lists:\n",
      "[]\n"
     ]
    }
   ],
   "source": [
    "print('Files absent not present in tse_bi lists:')\n",
    "print([file for file in features_computation_issue_list_wo_segment if file in df_tse['id'].values])"
   ]
  }
 ],
 "metadata": {
  "kernelspec": {
   "display_name": "Python 3.6.8 64-bit",
   "language": "python",
   "name": "python36864bit33613821e84e4f7ead6dfcca52ca4fe2"
  },
  "language_info": {
   "codemirror_mode": {
    "name": "ipython",
    "version": 3
   },
   "file_extension": ".py",
   "mimetype": "text/x-python",
   "name": "python",
   "nbconvert_exporter": "python",
   "pygments_lexer": "ipython3",
   "version": "3.6.8"
  }
 },
 "nbformat": 4,
 "nbformat_minor": 5
}
