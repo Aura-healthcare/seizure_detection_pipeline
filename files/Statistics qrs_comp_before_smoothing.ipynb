{
 "cells": [
  {
   "cell_type": "code",
   "execution_count": 2,
   "id": "cc0f2647",
   "metadata": {},
   "outputs": [],
   "source": [
    "import sys\n",
    "sys.path.append(\"..\")\n",
    "\n",
    "from src.usecase.consolidate_feats_and_annot import read_tse_bi\n",
    "from src.usecase.fetch_database import create_df_from_file_pattern\n",
    "import pandas as pd\n",
    "import os\n",
    "import seaborn as sns\n",
    "import re"
   ]
  },
  {
   "cell_type": "code",
   "execution_count": 3,
   "id": "4598ee5d",
   "metadata": {},
   "outputs": [],
   "source": [
    "DATASET_PATIENT_PATTERN = r\"[P][A][T][_][0-9]*\"\n",
    "DATASET_EXAM_PATTERN = r\"[E][E][G][_][0-9]*\"\n",
    "ANNOTATION_FILE_PATTERN = \"*.tse_bi\""
   ]
  },
  {
   "cell_type": "code",
   "execution_count": 4,
   "id": "5157511e",
   "metadata": {},
   "outputs": [
    {
     "name": "stdout",
     "output_type": "stream",
     "text": [
      "                                      ecg_qc_file_path  exam_id patient_id\n",
      "0    ../output/backup_comp_before_smoothing/res-com...  EEG_156     PAT_12\n",
      "1    ../output/backup_comp_before_smoothing/res-com...  EEG_297     PAT_12\n",
      "2    ../output/backup_comp_before_smoothing/res-com...  EEG_299     PAT_12\n",
      "3    ../output/backup_comp_before_smoothing/res-com...  EEG_300     PAT_12\n",
      "4    ../output/backup_comp_before_smoothing/res-com...  EEG_253     PAT_17\n",
      "..                                                 ...      ...        ...\n",
      "404  ../output/backup_comp_before_smoothing/res-com...  EEG_103      PAT_9\n",
      "405  ../output/backup_comp_before_smoothing/res-com...  EEG_103      PAT_9\n",
      "406  ../output/backup_comp_before_smoothing/res-com...  EEG_103      PAT_9\n",
      "407  ../output/backup_comp_before_smoothing/res-com...  EEG_103      PAT_9\n",
      "408  ../output/backup_comp_before_smoothing/res-com...  EEG_103      PAT_9\n",
      "\n",
      "[409 rows x 3 columns]\n"
     ]
    }
   ],
   "source": [
    "df = create_df_from_file_pattern(\n",
    "    data_folder_path='../output/backup_comp_before_smoothing/res-comp-v0_6',\n",
    "    file_pattern=ANNOTATION_FILE_PATTERN,\n",
    "    file_label='ecg_qc',\n",
    "    patient_pattern=DATASET_PATIENT_PATTERN,\n",
    "    exam_pattern=DATASET_EXAM_PATTERN)\n",
    "print(df)"
   ]
  },
  {
   "cell_type": "code",
   "execution_count": 5,
   "id": "a343c7c5",
   "metadata": {},
   "outputs": [],
   "source": [
    "def compute_stats_files(tse_bi_file):\n",
    "    \n",
    "    df = read_tse_bi(tse_bi_file)\n",
    "    df['length'] = df['end'] - df['start']\n",
    "    total_length = df['length'].sum()\n",
    "    total_noise = df[df['annotation'] == 'noisy']['length'].sum()\n",
    "    total_clean = df[df['annotation'] == 'clean']['length'].sum()\n",
    "    small_chunks = df[(df['annotation'] == 'noisy') & (df['length'].dt.seconds <= 4)].shape[0]\n",
    "    big_chunks = df[(df['annotation'] == 'noisy') & (df['length'].dt.seconds >= 4)].shape[0]\n",
    "    very_big_chunks = df[(df['annotation'] == 'noisy') & (df['length'].dt.seconds >= 8)].shape[0]\n",
    "    # df[['ratio_clean', 'small_chunks']].fillna(0)\n",
    "    if str(total_noise) == \"NaT\":\n",
    "        total_noise = pd.Timedelta(seconds=0)\n",
    "    if str(total_clean) == \"NaT\":\n",
    "        total_clean = pd.Timedelta(seconds=0)\n",
    "\n",
    "    return total_length, total_noise, total_clean, small_chunks, big_chunks, very_big_chunks"
   ]
  },
  {
   "cell_type": "code",
   "execution_count": 6,
   "id": "f4f74615",
   "metadata": {},
   "outputs": [
    {
     "name": "stderr",
     "output_type": "stream",
     "text": [
      "/home/aura-alexis/github/seizure_detection_pipeline/env/lib64/python3.6/site-packages/pandas/core/frame.py:4327: SettingWithCopyWarning: \n",
      "A value is trying to be set on a copy of a slice from a DataFrame\n",
      "\n",
      "See the caveats in the documentation: https://pandas.pydata.org/pandas-docs/stable/user_guide/indexing.html#returning-a-view-versus-a-copy\n",
      "  downcast=downcast,\n"
     ]
    },
    {
     "data": {
      "text/html": [
       "<div>\n",
       "<style scoped>\n",
       "    .dataframe tbody tr th:only-of-type {\n",
       "        vertical-align: middle;\n",
       "    }\n",
       "\n",
       "    .dataframe tbody tr th {\n",
       "        vertical-align: top;\n",
       "    }\n",
       "\n",
       "    .dataframe thead th {\n",
       "        text-align: right;\n",
       "    }\n",
       "</style>\n",
       "<table border=\"1\" class=\"dataframe\">\n",
       "  <thead>\n",
       "    <tr style=\"text-align: right;\">\n",
       "      <th></th>\n",
       "      <th>ecg_qc_file_path</th>\n",
       "      <th>exam_id</th>\n",
       "      <th>patient_id</th>\n",
       "      <th>total_length</th>\n",
       "      <th>total_noise</th>\n",
       "      <th>total_clean</th>\n",
       "      <th>small_chunks</th>\n",
       "      <th>big_chunks</th>\n",
       "      <th>very_big_chunks</th>\n",
       "      <th>ratio_clean</th>\n",
       "      <th>ratio_small_chunks</th>\n",
       "    </tr>\n",
       "  </thead>\n",
       "  <tbody>\n",
       "    <tr>\n",
       "      <th>0</th>\n",
       "      <td>../output/backup_comp_before_smoothing/res-com...</td>\n",
       "      <td>EEG_156</td>\n",
       "      <td>PAT_12</td>\n",
       "      <td>0 days 00:18:58</td>\n",
       "      <td>0 days 00:00:32</td>\n",
       "      <td>0 days 00:18:26</td>\n",
       "      <td>9.0</td>\n",
       "      <td>3.0</td>\n",
       "      <td>0.0</td>\n",
       "      <td>0.971880</td>\n",
       "      <td>0.031634</td>\n",
       "    </tr>\n",
       "    <tr>\n",
       "      <th>1</th>\n",
       "      <td>../output/backup_comp_before_smoothing/res-com...</td>\n",
       "      <td>EEG_297</td>\n",
       "      <td>PAT_12</td>\n",
       "      <td>0 days 00:05:42</td>\n",
       "      <td>0 days 00:00:04</td>\n",
       "      <td>0 days 00:05:38</td>\n",
       "      <td>2.0</td>\n",
       "      <td>0.0</td>\n",
       "      <td>0.0</td>\n",
       "      <td>0.988304</td>\n",
       "      <td>0.023392</td>\n",
       "    </tr>\n",
       "    <tr>\n",
       "      <th>2</th>\n",
       "      <td>../output/backup_comp_before_smoothing/res-com...</td>\n",
       "      <td>EEG_299</td>\n",
       "      <td>PAT_12</td>\n",
       "      <td>0 days 00:02:08</td>\n",
       "      <td>0 days 00:00:00</td>\n",
       "      <td>0 days 00:02:08</td>\n",
       "      <td>0.0</td>\n",
       "      <td>0.0</td>\n",
       "      <td>0.0</td>\n",
       "      <td>1.000000</td>\n",
       "      <td>0.000000</td>\n",
       "    </tr>\n",
       "    <tr>\n",
       "      <th>3</th>\n",
       "      <td>../output/backup_comp_before_smoothing/res-com...</td>\n",
       "      <td>EEG_300</td>\n",
       "      <td>PAT_12</td>\n",
       "      <td>0 days 00:33:30</td>\n",
       "      <td>0 days 00:00:32</td>\n",
       "      <td>0 days 00:32:58</td>\n",
       "      <td>8.0</td>\n",
       "      <td>2.0</td>\n",
       "      <td>1.0</td>\n",
       "      <td>0.984080</td>\n",
       "      <td>0.015920</td>\n",
       "    </tr>\n",
       "    <tr>\n",
       "      <th>4</th>\n",
       "      <td>../output/backup_comp_before_smoothing/res-com...</td>\n",
       "      <td>EEG_253</td>\n",
       "      <td>PAT_17</td>\n",
       "      <td>0 days 01:59:56</td>\n",
       "      <td>0 days 00:04:34</td>\n",
       "      <td>0 days 01:55:22</td>\n",
       "      <td>56.0</td>\n",
       "      <td>27.0</td>\n",
       "      <td>9.0</td>\n",
       "      <td>0.961923</td>\n",
       "      <td>0.031128</td>\n",
       "    </tr>\n",
       "  </tbody>\n",
       "</table>\n",
       "</div>"
      ],
      "text/plain": [
       "                                    ecg_qc_file_path  exam_id patient_id  \\\n",
       "0  ../output/backup_comp_before_smoothing/res-com...  EEG_156     PAT_12   \n",
       "1  ../output/backup_comp_before_smoothing/res-com...  EEG_297     PAT_12   \n",
       "2  ../output/backup_comp_before_smoothing/res-com...  EEG_299     PAT_12   \n",
       "3  ../output/backup_comp_before_smoothing/res-com...  EEG_300     PAT_12   \n",
       "4  ../output/backup_comp_before_smoothing/res-com...  EEG_253     PAT_17   \n",
       "\n",
       "     total_length     total_noise     total_clean  small_chunks  big_chunks  \\\n",
       "0 0 days 00:18:58 0 days 00:00:32 0 days 00:18:26           9.0         3.0   \n",
       "1 0 days 00:05:42 0 days 00:00:04 0 days 00:05:38           2.0         0.0   \n",
       "2 0 days 00:02:08 0 days 00:00:00 0 days 00:02:08           0.0         0.0   \n",
       "3 0 days 00:33:30 0 days 00:00:32 0 days 00:32:58           8.0         2.0   \n",
       "4 0 days 01:59:56 0 days 00:04:34 0 days 01:55:22          56.0        27.0   \n",
       "\n",
       "   very_big_chunks  ratio_clean  ratio_small_chunks  \n",
       "0              0.0     0.971880            0.031634  \n",
       "1              0.0     0.988304            0.023392  \n",
       "2              0.0     1.000000            0.000000  \n",
       "3              1.0     0.984080            0.015920  \n",
       "4              9.0     0.961923            0.031128  "
      ]
     },
     "execution_count": 6,
     "metadata": {},
     "output_type": "execute_result"
    }
   ],
   "source": [
    "for i in df.index:\n",
    "    total_length, total_noise, total_clean, small_chunks, big_chunks, very_big_chunks = compute_stats_files(df.loc[i, 'ecg_qc_file_path'])\n",
    "    df.loc[i, 'total_length'] = total_length\n",
    "    df.loc[i, 'total_noise'] = total_noise\n",
    "    df.loc[i, 'total_clean'] = total_clean\n",
    "    df.loc[i, 'small_chunks'] = small_chunks\n",
    "    df.loc[i, 'big_chunks'] = big_chunks\n",
    "    df.loc[i, 'very_big_chunks'] = very_big_chunks\n",
    "    \n",
    "\n",
    "df[['total_length', 'total_noise', 'total_clean']].fillna(pd.Timedelta(seconds=0), inplace=True)\n",
    "df['ratio_clean'] = df['total_clean'] / df['total_length']\n",
    "df['ratio_small_chunks'] = df['small_chunks']*4 / df['total_length'].dt.seconds\n",
    "\n",
    "df.head()"
   ]
  },
  {
   "cell_type": "code",
   "execution_count": 7,
   "id": "44473624",
   "metadata": {},
   "outputs": [
    {
     "data": {
      "text/html": [
       "<div>\n",
       "<style scoped>\n",
       "    .dataframe tbody tr th:only-of-type {\n",
       "        vertical-align: middle;\n",
       "    }\n",
       "\n",
       "    .dataframe tbody tr th {\n",
       "        vertical-align: top;\n",
       "    }\n",
       "\n",
       "    .dataframe thead th {\n",
       "        text-align: right;\n",
       "    }\n",
       "</style>\n",
       "<table border=\"1\" class=\"dataframe\">\n",
       "  <thead>\n",
       "    <tr style=\"text-align: right;\">\n",
       "      <th></th>\n",
       "      <th>ecg_qc_file_path</th>\n",
       "      <th>exam_id</th>\n",
       "      <th>patient_id</th>\n",
       "      <th>total_length</th>\n",
       "      <th>total_noise</th>\n",
       "      <th>total_clean</th>\n",
       "      <th>small_chunks</th>\n",
       "      <th>big_chunks</th>\n",
       "      <th>very_big_chunks</th>\n",
       "      <th>ratio_clean</th>\n",
       "      <th>ratio_small_chunks</th>\n",
       "    </tr>\n",
       "  </thead>\n",
       "  <tbody>\n",
       "  </tbody>\n",
       "</table>\n",
       "</div>"
      ],
      "text/plain": [
       "Empty DataFrame\n",
       "Columns: [ecg_qc_file_path, exam_id, patient_id, total_length, total_noise, total_clean, small_chunks, big_chunks, very_big_chunks, ratio_clean, ratio_small_chunks]\n",
       "Index: []"
      ]
     },
     "execution_count": 7,
     "metadata": {},
     "output_type": "execute_result"
    }
   ],
   "source": [
    "df[df['ratio_clean'].isna()]"
   ]
  },
  {
   "cell_type": "code",
   "execution_count": 9,
   "id": "e10e4709",
   "metadata": {},
   "outputs": [
    {
     "data": {
      "text/plain": [
       "0.0      279\n",
       "1.0       47\n",
       "2.0       18\n",
       "3.0       13\n",
       "4.0       10\n",
       "14.0       4\n",
       "5.0        4\n",
       "7.0        3\n",
       "6.0        3\n",
       "16.0       2\n",
       "13.0       1\n",
       "508.0      1\n",
       "96.0       1\n",
       "84.0       1\n",
       "9.0        1\n",
       "44.0       1\n",
       "30.0       1\n",
       "10.0       1\n",
       "574.0      1\n",
       "29.0       1\n",
       "55.0       1\n",
       "262.0      1\n",
       "11.0       1\n",
       "45.0       1\n",
       "77.0       1\n",
       "26.0       1\n",
       "89.0       1\n",
       "19.0       1\n",
       "408.0      1\n",
       "37.0       1\n",
       "56.0       1\n",
       "206.0      1\n",
       "101.0      1\n",
       "113.0      1\n",
       "34.0       1\n",
       "24.0       1\n",
       "Name: very_big_chunks, dtype: int64"
      ]
     },
     "execution_count": 9,
     "metadata": {},
     "output_type": "execute_result"
    }
   ],
   "source": [
    "df['very_big_chunks'].value_counts()"
   ]
  },
  {
   "cell_type": "code",
   "execution_count": 10,
   "id": "98b73a41",
   "metadata": {},
   "outputs": [
    {
     "data": {
      "text/plain": [
       "0.0      279\n",
       "1.0       47\n",
       "2.0       18\n",
       "3.0       13\n",
       "4.0       10\n",
       "14.0       4\n",
       "5.0        4\n",
       "7.0        3\n",
       "6.0        3\n",
       "16.0       2\n",
       "13.0       1\n",
       "508.0      1\n",
       "96.0       1\n",
       "84.0       1\n",
       "9.0        1\n",
       "44.0       1\n",
       "30.0       1\n",
       "10.0       1\n",
       "574.0      1\n",
       "29.0       1\n",
       "55.0       1\n",
       "262.0      1\n",
       "11.0       1\n",
       "45.0       1\n",
       "77.0       1\n",
       "26.0       1\n",
       "89.0       1\n",
       "19.0       1\n",
       "408.0      1\n",
       "37.0       1\n",
       "56.0       1\n",
       "206.0      1\n",
       "101.0      1\n",
       "113.0      1\n",
       "34.0       1\n",
       "24.0       1\n",
       "Name: very_big_chunks, dtype: int64"
      ]
     },
     "execution_count": 10,
     "metadata": {},
     "output_type": "execute_result"
    }
   ],
   "source": [
    "df['very_big_chunks'].value_counts()"
   ]
  },
  {
   "cell_type": "code",
   "execution_count": 7,
   "id": "2ab73807",
   "metadata": {},
   "outputs": [
    {
     "data": {
      "text/html": [
       "<div>\n",
       "<style scoped>\n",
       "    .dataframe tbody tr th:only-of-type {\n",
       "        vertical-align: middle;\n",
       "    }\n",
       "\n",
       "    .dataframe tbody tr th {\n",
       "        vertical-align: top;\n",
       "    }\n",
       "\n",
       "    .dataframe thead th {\n",
       "        text-align: right;\n",
       "    }\n",
       "</style>\n",
       "<table border=\"1\" class=\"dataframe\">\n",
       "  <thead>\n",
       "    <tr style=\"text-align: right;\">\n",
       "      <th></th>\n",
       "      <th>ecg_qc_file_path</th>\n",
       "      <th>exam_id</th>\n",
       "      <th>patient_id</th>\n",
       "      <th>total_length</th>\n",
       "      <th>total_noise</th>\n",
       "      <th>total_clean</th>\n",
       "      <th>small_chunks</th>\n",
       "      <th>ratio_clean</th>\n",
       "      <th>ratio_small_chunks</th>\n",
       "    </tr>\n",
       "  </thead>\n",
       "  <tbody>\n",
       "    <tr>\n",
       "      <th>408</th>\n",
       "      <td>../output/backup_comp_before_smoothing/res-com...</td>\n",
       "      <td>EEG_103</td>\n",
       "      <td>PAT_9</td>\n",
       "      <td>0 days 00:00:48</td>\n",
       "      <td>0 days 00:00:00</td>\n",
       "      <td>0 days 00:00:48</td>\n",
       "      <td>0.0</td>\n",
       "      <td>1.0</td>\n",
       "      <td>0.0</td>\n",
       "    </tr>\n",
       "    <tr>\n",
       "      <th>80</th>\n",
       "      <td>../output/backup_comp_before_smoothing/res-com...</td>\n",
       "      <td>EEG_562</td>\n",
       "      <td>PAT_41</td>\n",
       "      <td>0 days 00:00:44</td>\n",
       "      <td>0 days 00:00:00</td>\n",
       "      <td>0 days 00:00:44</td>\n",
       "      <td>0.0</td>\n",
       "      <td>1.0</td>\n",
       "      <td>0.0</td>\n",
       "    </tr>\n",
       "    <tr>\n",
       "      <th>114</th>\n",
       "      <td>../output/backup_comp_before_smoothing/res-com...</td>\n",
       "      <td>EEG_573</td>\n",
       "      <td>PAT_44</td>\n",
       "      <td>0 days 00:00:38</td>\n",
       "      <td>0 days 00:00:00</td>\n",
       "      <td>0 days 00:00:38</td>\n",
       "      <td>0.0</td>\n",
       "      <td>1.0</td>\n",
       "      <td>0.0</td>\n",
       "    </tr>\n",
       "    <tr>\n",
       "      <th>314</th>\n",
       "      <td>../output/backup_comp_before_smoothing/res-com...</td>\n",
       "      <td>EEG_706</td>\n",
       "      <td>PAT_52</td>\n",
       "      <td>0 days 00:03:32</td>\n",
       "      <td>0 days 00:00:00</td>\n",
       "      <td>0 days 00:03:32</td>\n",
       "      <td>0.0</td>\n",
       "      <td>1.0</td>\n",
       "      <td>0.0</td>\n",
       "    </tr>\n",
       "    <tr>\n",
       "      <th>117</th>\n",
       "      <td>../output/backup_comp_before_smoothing/res-com...</td>\n",
       "      <td>EEG_573</td>\n",
       "      <td>PAT_44</td>\n",
       "      <td>0 days 00:02:46</td>\n",
       "      <td>0 days 00:00:00</td>\n",
       "      <td>0 days 00:02:46</td>\n",
       "      <td>0.0</td>\n",
       "      <td>1.0</td>\n",
       "      <td>0.0</td>\n",
       "    </tr>\n",
       "    <tr>\n",
       "      <th>...</th>\n",
       "      <td>...</td>\n",
       "      <td>...</td>\n",
       "      <td>...</td>\n",
       "      <td>...</td>\n",
       "      <td>...</td>\n",
       "      <td>...</td>\n",
       "      <td>...</td>\n",
       "      <td>...</td>\n",
       "      <td>...</td>\n",
       "    </tr>\n",
       "    <tr>\n",
       "      <th>376</th>\n",
       "      <td>../output/backup_comp_before_smoothing/res-com...</td>\n",
       "      <td>EEG_501</td>\n",
       "      <td>PAT_7</td>\n",
       "      <td>0 days 00:00:42</td>\n",
       "      <td>0 days 00:00:42</td>\n",
       "      <td>0 days 00:00:00</td>\n",
       "      <td>0.0</td>\n",
       "      <td>0.0</td>\n",
       "      <td>0.0</td>\n",
       "    </tr>\n",
       "    <tr>\n",
       "      <th>377</th>\n",
       "      <td>../output/backup_comp_before_smoothing/res-com...</td>\n",
       "      <td>EEG_501</td>\n",
       "      <td>PAT_7</td>\n",
       "      <td>0 days 00:01:16</td>\n",
       "      <td>0 days 00:01:16</td>\n",
       "      <td>0 days 00:00:00</td>\n",
       "      <td>0.0</td>\n",
       "      <td>0.0</td>\n",
       "      <td>0.0</td>\n",
       "    </tr>\n",
       "    <tr>\n",
       "      <th>259</th>\n",
       "      <td>../output/backup_comp_before_smoothing/res-com...</td>\n",
       "      <td>EEG_689</td>\n",
       "      <td>PAT_52</td>\n",
       "      <td>0 days 00:01:26</td>\n",
       "      <td>0 days 00:01:26</td>\n",
       "      <td>0 days 00:00:00</td>\n",
       "      <td>0.0</td>\n",
       "      <td>0.0</td>\n",
       "      <td>0.0</td>\n",
       "    </tr>\n",
       "    <tr>\n",
       "      <th>45</th>\n",
       "      <td>../output/backup_comp_before_smoothing/res-com...</td>\n",
       "      <td>EEG_311</td>\n",
       "      <td>PAT_22</td>\n",
       "      <td>0 days 00:32:20</td>\n",
       "      <td>0 days 00:32:20</td>\n",
       "      <td>0 days 00:00:00</td>\n",
       "      <td>0.0</td>\n",
       "      <td>0.0</td>\n",
       "      <td>0.0</td>\n",
       "    </tr>\n",
       "    <tr>\n",
       "      <th>240</th>\n",
       "      <td>../output/backup_comp_before_smoothing/res-com...</td>\n",
       "      <td>EEG_714</td>\n",
       "      <td>PAT_52</td>\n",
       "      <td>0 days 00:01:56</td>\n",
       "      <td>0 days 00:01:56</td>\n",
       "      <td>0 days 00:00:00</td>\n",
       "      <td>0.0</td>\n",
       "      <td>0.0</td>\n",
       "      <td>0.0</td>\n",
       "    </tr>\n",
       "  </tbody>\n",
       "</table>\n",
       "<p>409 rows × 9 columns</p>\n",
       "</div>"
      ],
      "text/plain": [
       "                                      ecg_qc_file_path  exam_id patient_id  \\\n",
       "408  ../output/backup_comp_before_smoothing/res-com...  EEG_103      PAT_9   \n",
       "80   ../output/backup_comp_before_smoothing/res-com...  EEG_562     PAT_41   \n",
       "114  ../output/backup_comp_before_smoothing/res-com...  EEG_573     PAT_44   \n",
       "314  ../output/backup_comp_before_smoothing/res-com...  EEG_706     PAT_52   \n",
       "117  ../output/backup_comp_before_smoothing/res-com...  EEG_573     PAT_44   \n",
       "..                                                 ...      ...        ...   \n",
       "376  ../output/backup_comp_before_smoothing/res-com...  EEG_501      PAT_7   \n",
       "377  ../output/backup_comp_before_smoothing/res-com...  EEG_501      PAT_7   \n",
       "259  ../output/backup_comp_before_smoothing/res-com...  EEG_689     PAT_52   \n",
       "45   ../output/backup_comp_before_smoothing/res-com...  EEG_311     PAT_22   \n",
       "240  ../output/backup_comp_before_smoothing/res-com...  EEG_714     PAT_52   \n",
       "\n",
       "       total_length     total_noise     total_clean  small_chunks  \\\n",
       "408 0 days 00:00:48 0 days 00:00:00 0 days 00:00:48           0.0   \n",
       "80  0 days 00:00:44 0 days 00:00:00 0 days 00:00:44           0.0   \n",
       "114 0 days 00:00:38 0 days 00:00:00 0 days 00:00:38           0.0   \n",
       "314 0 days 00:03:32 0 days 00:00:00 0 days 00:03:32           0.0   \n",
       "117 0 days 00:02:46 0 days 00:00:00 0 days 00:02:46           0.0   \n",
       "..              ...             ...             ...           ...   \n",
       "376 0 days 00:00:42 0 days 00:00:42 0 days 00:00:00           0.0   \n",
       "377 0 days 00:01:16 0 days 00:01:16 0 days 00:00:00           0.0   \n",
       "259 0 days 00:01:26 0 days 00:01:26 0 days 00:00:00           0.0   \n",
       "45  0 days 00:32:20 0 days 00:32:20 0 days 00:00:00           0.0   \n",
       "240 0 days 00:01:56 0 days 00:01:56 0 days 00:00:00           0.0   \n",
       "\n",
       "     ratio_clean  ratio_small_chunks  \n",
       "408          1.0                 0.0  \n",
       "80           1.0                 0.0  \n",
       "114          1.0                 0.0  \n",
       "314          1.0                 0.0  \n",
       "117          1.0                 0.0  \n",
       "..           ...                 ...  \n",
       "376          0.0                 0.0  \n",
       "377          0.0                 0.0  \n",
       "259          0.0                 0.0  \n",
       "45           0.0                 0.0  \n",
       "240          0.0                 0.0  \n",
       "\n",
       "[409 rows x 9 columns]"
      ]
     },
     "execution_count": 7,
     "metadata": {},
     "output_type": "execute_result"
    }
   ],
   "source": [
    "# Top noisy\n",
    "\n",
    "df.sort_values('ratio_clean', ascending=False)"
   ]
  },
  {
   "cell_type": "code",
   "execution_count": 8,
   "id": "df0113c6",
   "metadata": {},
   "outputs": [
    {
     "data": {
      "text/plain": [
       "1.000000    140\n",
       "0.000000     14\n",
       "0.962963      4\n",
       "0.925926      3\n",
       "0.969697      3\n",
       "           ... \n",
       "0.987705      1\n",
       "0.692607      1\n",
       "0.040451      1\n",
       "0.967972      1\n",
       "0.977064      1\n",
       "Name: ratio_clean, Length: 230, dtype: int64"
      ]
     },
     "execution_count": 8,
     "metadata": {},
     "output_type": "execute_result"
    }
   ],
   "source": [
    "df['ratio_clean'].value_counts()"
   ]
  },
  {
   "cell_type": "code",
   "execution_count": 9,
   "id": "fedff484",
   "metadata": {},
   "outputs": [
    {
     "data": {
      "text/html": [
       "<div>\n",
       "<style scoped>\n",
       "    .dataframe tbody tr th:only-of-type {\n",
       "        vertical-align: middle;\n",
       "    }\n",
       "\n",
       "    .dataframe tbody tr th {\n",
       "        vertical-align: top;\n",
       "    }\n",
       "\n",
       "    .dataframe thead th {\n",
       "        text-align: right;\n",
       "    }\n",
       "</style>\n",
       "<table border=\"1\" class=\"dataframe\">\n",
       "  <thead>\n",
       "    <tr style=\"text-align: right;\">\n",
       "      <th></th>\n",
       "      <th>ecg_qc_file_path</th>\n",
       "      <th>exam_id</th>\n",
       "      <th>patient_id</th>\n",
       "      <th>total_length</th>\n",
       "      <th>total_noise</th>\n",
       "      <th>total_clean</th>\n",
       "      <th>small_chunks</th>\n",
       "      <th>ratio_clean</th>\n",
       "      <th>ratio_small_chunks</th>\n",
       "    </tr>\n",
       "  </thead>\n",
       "  <tbody>\n",
       "    <tr>\n",
       "      <th>92</th>\n",
       "      <td>../output/backup_comp_before_smoothing/res-com...</td>\n",
       "      <td>EEG_568</td>\n",
       "      <td>PAT_42</td>\n",
       "      <td>0 days 00:00:38</td>\n",
       "      <td>0 days 00:00:38</td>\n",
       "      <td>0 days 00:00:00</td>\n",
       "      <td>0.0</td>\n",
       "      <td>0.0</td>\n",
       "      <td>0.0</td>\n",
       "    </tr>\n",
       "    <tr>\n",
       "      <th>45</th>\n",
       "      <td>../output/backup_comp_before_smoothing/res-com...</td>\n",
       "      <td>EEG_311</td>\n",
       "      <td>PAT_22</td>\n",
       "      <td>0 days 00:32:20</td>\n",
       "      <td>0 days 00:32:20</td>\n",
       "      <td>0 days 00:00:00</td>\n",
       "      <td>0.0</td>\n",
       "      <td>0.0</td>\n",
       "      <td>0.0</td>\n",
       "    </tr>\n",
       "    <tr>\n",
       "      <th>141</th>\n",
       "      <td>../output/backup_comp_before_smoothing/res-com...</td>\n",
       "      <td>EEG_593</td>\n",
       "      <td>PAT_46</td>\n",
       "      <td>0 days 00:01:22</td>\n",
       "      <td>0 days 00:01:22</td>\n",
       "      <td>0 days 00:00:00</td>\n",
       "      <td>0.0</td>\n",
       "      <td>0.0</td>\n",
       "      <td>0.0</td>\n",
       "    </tr>\n",
       "    <tr>\n",
       "      <th>290</th>\n",
       "      <td>../output/backup_comp_before_smoothing/res-com...</td>\n",
       "      <td>EEG_706</td>\n",
       "      <td>PAT_52</td>\n",
       "      <td>0 days 00:36:44</td>\n",
       "      <td>0 days 00:36:44</td>\n",
       "      <td>0 days 00:00:00</td>\n",
       "      <td>0.0</td>\n",
       "      <td>0.0</td>\n",
       "      <td>0.0</td>\n",
       "    </tr>\n",
       "    <tr>\n",
       "      <th>292</th>\n",
       "      <td>../output/backup_comp_before_smoothing/res-com...</td>\n",
       "      <td>EEG_689</td>\n",
       "      <td>PAT_52</td>\n",
       "      <td>0 days 00:03:24</td>\n",
       "      <td>0 days 00:03:24</td>\n",
       "      <td>0 days 00:00:00</td>\n",
       "      <td>0.0</td>\n",
       "      <td>0.0</td>\n",
       "      <td>0.0</td>\n",
       "    </tr>\n",
       "    <tr>\n",
       "      <th>...</th>\n",
       "      <td>...</td>\n",
       "      <td>...</td>\n",
       "      <td>...</td>\n",
       "      <td>...</td>\n",
       "      <td>...</td>\n",
       "      <td>...</td>\n",
       "      <td>...</td>\n",
       "      <td>...</td>\n",
       "      <td>...</td>\n",
       "    </tr>\n",
       "    <tr>\n",
       "      <th>286</th>\n",
       "      <td>../output/backup_comp_before_smoothing/res-com...</td>\n",
       "      <td>EEG_689</td>\n",
       "      <td>PAT_52</td>\n",
       "      <td>0 days 00:00:30</td>\n",
       "      <td>0 days 00:00:00</td>\n",
       "      <td>0 days 00:00:30</td>\n",
       "      <td>0.0</td>\n",
       "      <td>1.0</td>\n",
       "      <td>0.0</td>\n",
       "    </tr>\n",
       "    <tr>\n",
       "      <th>287</th>\n",
       "      <td>../output/backup_comp_before_smoothing/res-com...</td>\n",
       "      <td>EEG_706</td>\n",
       "      <td>PAT_52</td>\n",
       "      <td>0 days 00:45:32</td>\n",
       "      <td>0 days 00:00:00</td>\n",
       "      <td>0 days 00:45:32</td>\n",
       "      <td>0.0</td>\n",
       "      <td>1.0</td>\n",
       "      <td>0.0</td>\n",
       "    </tr>\n",
       "    <tr>\n",
       "      <th>105</th>\n",
       "      <td>../output/backup_comp_before_smoothing/res-com...</td>\n",
       "      <td>EEG_573</td>\n",
       "      <td>PAT_44</td>\n",
       "      <td>0 days 00:00:48</td>\n",
       "      <td>0 days 00:00:00</td>\n",
       "      <td>0 days 00:00:48</td>\n",
       "      <td>0.0</td>\n",
       "      <td>1.0</td>\n",
       "      <td>0.0</td>\n",
       "    </tr>\n",
       "    <tr>\n",
       "      <th>112</th>\n",
       "      <td>../output/backup_comp_before_smoothing/res-com...</td>\n",
       "      <td>EEG_573</td>\n",
       "      <td>PAT_44</td>\n",
       "      <td>0 days 00:00:34</td>\n",
       "      <td>0 days 00:00:00</td>\n",
       "      <td>0 days 00:00:34</td>\n",
       "      <td>0.0</td>\n",
       "      <td>1.0</td>\n",
       "      <td>0.0</td>\n",
       "    </tr>\n",
       "    <tr>\n",
       "      <th>408</th>\n",
       "      <td>../output/backup_comp_before_smoothing/res-com...</td>\n",
       "      <td>EEG_103</td>\n",
       "      <td>PAT_9</td>\n",
       "      <td>0 days 00:00:48</td>\n",
       "      <td>0 days 00:00:00</td>\n",
       "      <td>0 days 00:00:48</td>\n",
       "      <td>0.0</td>\n",
       "      <td>1.0</td>\n",
       "      <td>0.0</td>\n",
       "    </tr>\n",
       "  </tbody>\n",
       "</table>\n",
       "<p>409 rows × 9 columns</p>\n",
       "</div>"
      ],
      "text/plain": [
       "                                      ecg_qc_file_path  exam_id patient_id  \\\n",
       "92   ../output/backup_comp_before_smoothing/res-com...  EEG_568     PAT_42   \n",
       "45   ../output/backup_comp_before_smoothing/res-com...  EEG_311     PAT_22   \n",
       "141  ../output/backup_comp_before_smoothing/res-com...  EEG_593     PAT_46   \n",
       "290  ../output/backup_comp_before_smoothing/res-com...  EEG_706     PAT_52   \n",
       "292  ../output/backup_comp_before_smoothing/res-com...  EEG_689     PAT_52   \n",
       "..                                                 ...      ...        ...   \n",
       "286  ../output/backup_comp_before_smoothing/res-com...  EEG_689     PAT_52   \n",
       "287  ../output/backup_comp_before_smoothing/res-com...  EEG_706     PAT_52   \n",
       "105  ../output/backup_comp_before_smoothing/res-com...  EEG_573     PAT_44   \n",
       "112  ../output/backup_comp_before_smoothing/res-com...  EEG_573     PAT_44   \n",
       "408  ../output/backup_comp_before_smoothing/res-com...  EEG_103      PAT_9   \n",
       "\n",
       "       total_length     total_noise     total_clean  small_chunks  \\\n",
       "92  0 days 00:00:38 0 days 00:00:38 0 days 00:00:00           0.0   \n",
       "45  0 days 00:32:20 0 days 00:32:20 0 days 00:00:00           0.0   \n",
       "141 0 days 00:01:22 0 days 00:01:22 0 days 00:00:00           0.0   \n",
       "290 0 days 00:36:44 0 days 00:36:44 0 days 00:00:00           0.0   \n",
       "292 0 days 00:03:24 0 days 00:03:24 0 days 00:00:00           0.0   \n",
       "..              ...             ...             ...           ...   \n",
       "286 0 days 00:00:30 0 days 00:00:00 0 days 00:00:30           0.0   \n",
       "287 0 days 00:45:32 0 days 00:00:00 0 days 00:45:32           0.0   \n",
       "105 0 days 00:00:48 0 days 00:00:00 0 days 00:00:48           0.0   \n",
       "112 0 days 00:00:34 0 days 00:00:00 0 days 00:00:34           0.0   \n",
       "408 0 days 00:00:48 0 days 00:00:00 0 days 00:00:48           0.0   \n",
       "\n",
       "     ratio_clean  ratio_small_chunks  \n",
       "92           0.0                 0.0  \n",
       "45           0.0                 0.0  \n",
       "141          0.0                 0.0  \n",
       "290          0.0                 0.0  \n",
       "292          0.0                 0.0  \n",
       "..           ...                 ...  \n",
       "286          1.0                 0.0  \n",
       "287          1.0                 0.0  \n",
       "105          1.0                 0.0  \n",
       "112          1.0                 0.0  \n",
       "408          1.0                 0.0  \n",
       "\n",
       "[409 rows x 9 columns]"
      ]
     },
     "execution_count": 9,
     "metadata": {},
     "output_type": "execute_result"
    }
   ],
   "source": [
    "# Top clean\n",
    "df.sort_values('ratio_clean', ascending=True)"
   ]
  },
  {
   "cell_type": "code",
   "execution_count": 10,
   "id": "39ecd5e2",
   "metadata": {},
   "outputs": [
    {
     "data": {
      "text/plain": [
       "0.7511367831616216"
      ]
     },
     "execution_count": 10,
     "metadata": {},
     "output_type": "execute_result"
    }
   ],
   "source": [
    "# Ratio clean/noise\n",
    "df['total_clean'].dt.seconds.sum() / df['total_length'].dt.seconds.sum()"
   ]
  },
  {
   "cell_type": "code",
   "execution_count": 11,
   "id": "230965d0",
   "metadata": {},
   "outputs": [
    {
     "data": {
      "text/plain": [
       "<seaborn.axisgrid.FacetGrid at 0x7ffb2ad0c160>"
      ]
     },
     "execution_count": 11,
     "metadata": {},
     "output_type": "execute_result"
    },
    {
     "data": {
      "image/png": "[encoded data removed]",
      "text/plain": [
       "<Figure size 360x360 with 1 Axes>"
      ]
     },
     "metadata": {
      "needs_background": "light"
     },
     "output_type": "display_data"
    }
   ],
   "source": [
    "# Small chunks are scarse\n",
    "sns.displot(df['small_chunks'], kind='kde')"
   ]
  },
  {
   "cell_type": "code",
   "execution_count": 12,
   "id": "5e64c2db",
   "metadata": {},
   "outputs": [
    {
     "data": {
      "text/plain": [
       "<seaborn.axisgrid.FacetGrid at 0x7f376bc785c0>"
      ]
     },
     "execution_count": 12,
     "metadata": {},
     "output_type": "execute_result"
    },
    {
     "data": {
      "image/png": "[encoded data removed]",
      "text/plain": [
       "<Figure size 360x360 with 1 Axes>"
      ]
     },
     "metadata": {
      "needs_background": "light"
     },
     "output_type": "display_data"
    }
   ],
   "source": [
    "# Small chunks are scarse\n",
    "sns.displot(df['ratio_small_chunks'], kind='kde')"
   ]
  },
  {
   "cell_type": "code",
   "execution_count": 13,
   "id": "cd373f3d",
   "metadata": {
    "scrolled": true
   },
   "outputs": [
    {
     "data": {
      "text/plain": [
       "<seaborn.axisgrid.FacetGrid at 0x7f376bc58208>"
      ]
     },
     "execution_count": 13,
     "metadata": {},
     "output_type": "execute_result"
    },
    {
     "data": {
      "image/png": "[encoded data removed]",
      "text/plain": [
       "<Figure size 360x360 with 1 Axes>"
      ]
     },
     "metadata": {
      "needs_background": "light"
     },
     "output_type": "display_data"
    }
   ],
   "source": [
    "# They are quite rare\n",
    "sns.displot(df[df['small_chunks'] <= 50]['small_chunks'], kind='kde')"
   ]
  },
  {
   "cell_type": "code",
   "execution_count": 14,
   "id": "2db3e55c",
   "metadata": {},
   "outputs": [
    {
     "data": {
      "text/plain": [
       "<seaborn.axisgrid.FacetGrid at 0x7f376bb8f198>"
      ]
     },
     "execution_count": 14,
     "metadata": {},
     "output_type": "execute_result"
    },
    {
     "data": {
      "image/png": "[encoded data removed]",
      "text/plain": [
       "<Figure size 360x360 with 1 Axes>"
      ]
     },
     "metadata": {
      "needs_background": "light"
     },
     "output_type": "display_data"
    }
   ],
   "source": [
    "sns.displot(df['ratio_clean'], kind='kde')"
   ]
  },
  {
   "cell_type": "code",
   "execution_count": 15,
   "id": "e23d9a38",
   "metadata": {},
   "outputs": [
    {
     "data": {
      "text/plain": [
       "<seaborn.axisgrid.FacetGrid at 0x7f376bada198>"
      ]
     },
     "execution_count": 15,
     "metadata": {},
     "output_type": "execute_result"
    },
    {
     "data": {
      "image/png": "[encoded data removed]",
      "text/plain": [
       "<Figure size 360x360 with 1 Axes>"
      ]
     },
     "metadata": {
      "needs_background": "light"
     },
     "output_type": "display_data"
    }
   ],
   "source": [
    "sns.displot(df['ratio_clean'])"
   ]
  },
  {
   "cell_type": "code",
   "execution_count": 16,
   "id": "9130f1c1",
   "metadata": {
    "scrolled": true
   },
   "outputs": [
    {
     "data": {
      "text/plain": [
       "<seaborn.axisgrid.FacetGrid at 0x7f376bb169b0>"
      ]
     },
     "execution_count": 16,
     "metadata": {},
     "output_type": "execute_result"
    },
    {
     "data": {
      "image/png": "[encoded data removed]",
      "text/plain": [
       "<Figure size 360x360 with 1 Axes>"
      ]
     },
     "metadata": {
      "needs_background": "light"
     },
     "output_type": "display_data"
    }
   ],
   "source": [
    "sns.displot(df['total_length'].dt.seconds/3600)"
   ]
  },
  {
   "cell_type": "code",
   "execution_count": 17,
   "id": "4e3a3c21",
   "metadata": {},
   "outputs": [
    {
     "data": {
      "text/plain": [
       "0.8997555012224939"
      ]
     },
     "execution_count": 17,
     "metadata": {},
     "output_type": "execute_result"
    }
   ],
   "source": [
    "# with good quality\n",
    "(df[df['ratio_clean'] > 0.5]).shape[0] / df.shape[0]"
   ]
  },
  {
   "cell_type": "code",
   "execution_count": 18,
   "id": "691fc93a",
   "metadata": {},
   "outputs": [
    {
     "data": {
      "text/plain": [
       "0.8235882219404309"
      ]
     },
     "execution_count": 18,
     "metadata": {},
     "output_type": "execute_result"
    }
   ],
   "source": [
    "# % for goog quality length\n",
    "df[df['ratio_clean'] > 0.5]['total_length'].dt.seconds.sum() / df['total_length'].dt.seconds.sum()"
   ]
  },
  {
   "cell_type": "code",
   "execution_count": null,
   "id": "bbe4669f",
   "metadata": {},
   "outputs": [],
   "source": []
  },
  {
   "cell_type": "markdown",
   "id": "db47507b",
   "metadata": {},
   "source": [
    "## Taking only good quality segments"
   ]
  },
  {
   "cell_type": "code",
   "execution_count": 19,
   "id": "4ed8d61c",
   "metadata": {},
   "outputs": [
    {
     "data": {
      "text/html": [
       "<div>\n",
       "<style scoped>\n",
       "    .dataframe tbody tr th:only-of-type {\n",
       "        vertical-align: middle;\n",
       "    }\n",
       "\n",
       "    .dataframe tbody tr th {\n",
       "        vertical-align: top;\n",
       "    }\n",
       "\n",
       "    .dataframe thead th {\n",
       "        text-align: right;\n",
       "    }\n",
       "</style>\n",
       "<table border=\"1\" class=\"dataframe\">\n",
       "  <thead>\n",
       "    <tr style=\"text-align: right;\">\n",
       "      <th></th>\n",
       "      <th>ecg_qc_file_path</th>\n",
       "      <th>exam_id</th>\n",
       "      <th>patient_id</th>\n",
       "      <th>total_length</th>\n",
       "      <th>total_noise</th>\n",
       "      <th>total_clean</th>\n",
       "      <th>small_chunks</th>\n",
       "      <th>ratio_clean</th>\n",
       "      <th>ratio_small_chunks</th>\n",
       "    </tr>\n",
       "  </thead>\n",
       "  <tbody>\n",
       "    <tr>\n",
       "      <th>1</th>\n",
       "      <td>../output/res-comp-v0_6/PAT_12/qc_qrs_EEG_297_...</td>\n",
       "      <td>EEG_297</td>\n",
       "      <td>PAT_12</td>\n",
       "      <td>0 days 00:05:42</td>\n",
       "      <td>0 days 00:00:04</td>\n",
       "      <td>0 days 00:05:38</td>\n",
       "      <td>2.0</td>\n",
       "      <td>0.988304</td>\n",
       "      <td>0.023392</td>\n",
       "    </tr>\n",
       "    <tr>\n",
       "      <th>2</th>\n",
       "      <td>../output/res-comp-v0_6/PAT_12/qc_qrs_EEG_299_...</td>\n",
       "      <td>EEG_299</td>\n",
       "      <td>PAT_12</td>\n",
       "      <td>0 days 00:02:08</td>\n",
       "      <td>0 days 00:00:00</td>\n",
       "      <td>0 days 00:02:08</td>\n",
       "      <td>0.0</td>\n",
       "      <td>1.000000</td>\n",
       "      <td>0.000000</td>\n",
       "    </tr>\n",
       "    <tr>\n",
       "      <th>3</th>\n",
       "      <td>../output/res-comp-v0_6/PAT_12/qc_qrs_EEG_300_...</td>\n",
       "      <td>EEG_300</td>\n",
       "      <td>PAT_12</td>\n",
       "      <td>0 days 00:33:30</td>\n",
       "      <td>0 days 00:00:32</td>\n",
       "      <td>0 days 00:32:58</td>\n",
       "      <td>8.0</td>\n",
       "      <td>0.984080</td>\n",
       "      <td>0.015920</td>\n",
       "    </tr>\n",
       "    <tr>\n",
       "      <th>10</th>\n",
       "      <td>../output/res-comp-v0_6/PAT_17/qc_qrs_EEG_259_...</td>\n",
       "      <td>EEG_259</td>\n",
       "      <td>PAT_17</td>\n",
       "      <td>0 days 00:00:22</td>\n",
       "      <td>0 days 00:00:00</td>\n",
       "      <td>0 days 00:00:22</td>\n",
       "      <td>0.0</td>\n",
       "      <td>1.000000</td>\n",
       "      <td>0.000000</td>\n",
       "    </tr>\n",
       "    <tr>\n",
       "      <th>11</th>\n",
       "      <td>../output/res-comp-v0_6/PAT_17/qc_qrs_EEG_259_...</td>\n",
       "      <td>EEG_259</td>\n",
       "      <td>PAT_17</td>\n",
       "      <td>0 days 00:00:18</td>\n",
       "      <td>0 days 00:00:00</td>\n",
       "      <td>0 days 00:00:18</td>\n",
       "      <td>0.0</td>\n",
       "      <td>1.000000</td>\n",
       "      <td>0.000000</td>\n",
       "    </tr>\n",
       "  </tbody>\n",
       "</table>\n",
       "</div>"
      ],
      "text/plain": [
       "                                     ecg_qc_file_path  exam_id patient_id  \\\n",
       "1   ../output/res-comp-v0_6/PAT_12/qc_qrs_EEG_297_...  EEG_297     PAT_12   \n",
       "2   ../output/res-comp-v0_6/PAT_12/qc_qrs_EEG_299_...  EEG_299     PAT_12   \n",
       "3   ../output/res-comp-v0_6/PAT_12/qc_qrs_EEG_300_...  EEG_300     PAT_12   \n",
       "10  ../output/res-comp-v0_6/PAT_17/qc_qrs_EEG_259_...  EEG_259     PAT_17   \n",
       "11  ../output/res-comp-v0_6/PAT_17/qc_qrs_EEG_259_...  EEG_259     PAT_17   \n",
       "\n",
       "      total_length     total_noise     total_clean  small_chunks  ratio_clean  \\\n",
       "1  0 days 00:05:42 0 days 00:00:04 0 days 00:05:38           2.0     0.988304   \n",
       "2  0 days 00:02:08 0 days 00:00:00 0 days 00:02:08           0.0     1.000000   \n",
       "3  0 days 00:33:30 0 days 00:00:32 0 days 00:32:58           8.0     0.984080   \n",
       "10 0 days 00:00:22 0 days 00:00:00 0 days 00:00:22           0.0     1.000000   \n",
       "11 0 days 00:00:18 0 days 00:00:00 0 days 00:00:18           0.0     1.000000   \n",
       "\n",
       "    ratio_small_chunks  \n",
       "1             0.023392  \n",
       "2             0.000000  \n",
       "3             0.015920  \n",
       "10            0.000000  \n",
       "11            0.000000  "
      ]
     },
     "execution_count": 19,
     "metadata": {},
     "output_type": "execute_result"
    }
   ],
   "source": [
    "df_clean = df[df['ratio_clean'] >= 0.98]\n",
    "df_clean.head()"
   ]
  },
  {
   "cell_type": "code",
   "execution_count": 30,
   "id": "e5503123",
   "metadata": {},
   "outputs": [
    {
     "name": "stderr",
     "output_type": "stream",
     "text": [
      "/home/aura-alexis/github/seizure_detection_pipeline/env/lib64/python3.6/site-packages/ipykernel_launcher.py:1: SettingWithCopyWarning: \n",
      "A value is trying to be set on a copy of a slice from a DataFrame.\n",
      "Try using .loc[row_indexer,col_indexer] = value instead\n",
      "\n",
      "See the caveats in the documentation: https://pandas.pydata.org/pandas-docs/stable/user_guide/indexing.html#returning-a-view-versus-a-copy\n",
      "  \"\"\"Entry point for launching an IPython kernel.\n"
     ]
    },
    {
     "data": {
      "text/html": [
       "<div>\n",
       "<style scoped>\n",
       "    .dataframe tbody tr th:only-of-type {\n",
       "        vertical-align: middle;\n",
       "    }\n",
       "\n",
       "    .dataframe tbody tr th {\n",
       "        vertical-align: top;\n",
       "    }\n",
       "\n",
       "    .dataframe thead th {\n",
       "        text-align: right;\n",
       "    }\n",
       "</style>\n",
       "<table border=\"1\" class=\"dataframe\">\n",
       "  <thead>\n",
       "    <tr style=\"text-align: right;\">\n",
       "      <th></th>\n",
       "      <th>ecg_qc_file_path</th>\n",
       "      <th>exam_id</th>\n",
       "      <th>patient_id</th>\n",
       "      <th>total_length</th>\n",
       "      <th>total_noise</th>\n",
       "      <th>total_clean</th>\n",
       "      <th>small_chunks</th>\n",
       "      <th>ratio_clean</th>\n",
       "      <th>ratio_small_chunks</th>\n",
       "      <th>cons</th>\n",
       "    </tr>\n",
       "  </thead>\n",
       "  <tbody>\n",
       "    <tr>\n",
       "      <th>1</th>\n",
       "      <td>../output/res-comp-v0_6/PAT_12/qc_qrs_EEG_297_...</td>\n",
       "      <td>EEG_297</td>\n",
       "      <td>PAT_12</td>\n",
       "      <td>0 days 00:05:42</td>\n",
       "      <td>0 days 00:00:04</td>\n",
       "      <td>0 days 00:05:38</td>\n",
       "      <td>2.0</td>\n",
       "      <td>0.988304</td>\n",
       "      <td>0.023392</td>\n",
       "      <td>../output/cons-v0_6/PAT_12/cons_PAT_12_Annotat...</td>\n",
       "    </tr>\n",
       "    <tr>\n",
       "      <th>2</th>\n",
       "      <td>../output/res-comp-v0_6/PAT_12/qc_qrs_EEG_299_...</td>\n",
       "      <td>EEG_299</td>\n",
       "      <td>PAT_12</td>\n",
       "      <td>0 days 00:02:08</td>\n",
       "      <td>0 days 00:00:00</td>\n",
       "      <td>0 days 00:02:08</td>\n",
       "      <td>0.0</td>\n",
       "      <td>1.000000</td>\n",
       "      <td>0.000000</td>\n",
       "      <td>../output/cons-v0_6/PAT_12/cons_PAT_12_Annotat...</td>\n",
       "    </tr>\n",
       "    <tr>\n",
       "      <th>3</th>\n",
       "      <td>../output/res-comp-v0_6/PAT_12/qc_qrs_EEG_300_...</td>\n",
       "      <td>EEG_300</td>\n",
       "      <td>PAT_12</td>\n",
       "      <td>0 days 00:33:30</td>\n",
       "      <td>0 days 00:00:32</td>\n",
       "      <td>0 days 00:32:58</td>\n",
       "      <td>8.0</td>\n",
       "      <td>0.984080</td>\n",
       "      <td>0.015920</td>\n",
       "      <td>../output/cons-v0_6/PAT_12/cons_PAT_12_Annotat...</td>\n",
       "    </tr>\n",
       "    <tr>\n",
       "      <th>10</th>\n",
       "      <td>../output/res-comp-v0_6/PAT_17/qc_qrs_EEG_259_...</td>\n",
       "      <td>EEG_259</td>\n",
       "      <td>PAT_17</td>\n",
       "      <td>0 days 00:00:22</td>\n",
       "      <td>0 days 00:00:00</td>\n",
       "      <td>0 days 00:00:22</td>\n",
       "      <td>0.0</td>\n",
       "      <td>1.000000</td>\n",
       "      <td>0.000000</td>\n",
       "      <td>../output/cons-v0_6/PAT_17/cons_PAT_17_Annotat...</td>\n",
       "    </tr>\n",
       "    <tr>\n",
       "      <th>11</th>\n",
       "      <td>../output/res-comp-v0_6/PAT_17/qc_qrs_EEG_259_...</td>\n",
       "      <td>EEG_259</td>\n",
       "      <td>PAT_17</td>\n",
       "      <td>0 days 00:00:18</td>\n",
       "      <td>0 days 00:00:00</td>\n",
       "      <td>0 days 00:00:18</td>\n",
       "      <td>0.0</td>\n",
       "      <td>1.000000</td>\n",
       "      <td>0.000000</td>\n",
       "      <td>../output/cons-v0_6/PAT_17/cons_PAT_17_Annotat...</td>\n",
       "    </tr>\n",
       "  </tbody>\n",
       "</table>\n",
       "</div>"
      ],
      "text/plain": [
       "                                     ecg_qc_file_path  exam_id patient_id  \\\n",
       "1   ../output/res-comp-v0_6/PAT_12/qc_qrs_EEG_297_...  EEG_297     PAT_12   \n",
       "2   ../output/res-comp-v0_6/PAT_12/qc_qrs_EEG_299_...  EEG_299     PAT_12   \n",
       "3   ../output/res-comp-v0_6/PAT_12/qc_qrs_EEG_300_...  EEG_300     PAT_12   \n",
       "10  ../output/res-comp-v0_6/PAT_17/qc_qrs_EEG_259_...  EEG_259     PAT_17   \n",
       "11  ../output/res-comp-v0_6/PAT_17/qc_qrs_EEG_259_...  EEG_259     PAT_17   \n",
       "\n",
       "      total_length     total_noise     total_clean  small_chunks  ratio_clean  \\\n",
       "1  0 days 00:05:42 0 days 00:00:04 0 days 00:05:38           2.0     0.988304   \n",
       "2  0 days 00:02:08 0 days 00:00:00 0 days 00:02:08           0.0     1.000000   \n",
       "3  0 days 00:33:30 0 days 00:00:32 0 days 00:32:58           8.0     0.984080   \n",
       "10 0 days 00:00:22 0 days 00:00:00 0 days 00:00:22           0.0     1.000000   \n",
       "11 0 days 00:00:18 0 days 00:00:00 0 days 00:00:18           0.0     1.000000   \n",
       "\n",
       "    ratio_small_chunks                                               cons  \n",
       "1             0.023392  ../output/cons-v0_6/PAT_12/cons_PAT_12_Annotat...  \n",
       "2             0.000000  ../output/cons-v0_6/PAT_12/cons_PAT_12_Annotat...  \n",
       "3             0.015920  ../output/cons-v0_6/PAT_12/cons_PAT_12_Annotat...  \n",
       "10            0.000000  ../output/cons-v0_6/PAT_17/cons_PAT_17_Annotat...  \n",
       "11            0.000000  ../output/cons-v0_6/PAT_17/cons_PAT_17_Annotat...  "
      ]
     },
     "execution_count": 30,
     "metadata": {},
     "output_type": "execute_result"
    }
   ],
   "source": [
    "df_clean['cons'] = df_clean['ecg_qc_file_path'].apply(lambda x: x.replace('res-comp-v0_6', 'cons-v0_6').replace('qc_qrs', 'cons').replace('tse_bi', 'csv').replace('cons_', 'cons_{}_Annotations_'.format(re.search(r'PAT_[0-9]*', x).group(0))))\n",
    "df_clean.head()"
   ]
  },
  {
   "cell_type": "code",
   "execution_count": 31,
   "id": "5aad6a6c",
   "metadata": {},
   "outputs": [],
   "source": [
    "import shutil\n",
    "\n",
    "for src in df_clean['cons'].values:\n",
    "    dst = src.replace('cons-v0_6', 'cons-v0_6_clean')\n",
    "    os.makedirs(os.path.dirname(dst), exist_ok=True)\n",
    "    shutil.copyfile(src, dst)"
   ]
  }
 ],
 "metadata": {
  "interpreter": {
   "hash": "ce8ad54ff0c21d76b9d2b2c70378af31077ad0766af937406802e3e7962ef6ad"
  },
  "kernelspec": {
   "display_name": "Python 3.6.8 ('env': venv)",
   "language": "python",
   "name": "python3"
  },
  "language_info": {
   "codemirror_mode": {
    "name": "ipython",
    "version": 3
   },
   "file_extension": ".py",
   "mimetype": "text/x-python",
   "name": "python",
   "nbconvert_exporter": "python",
   "pygments_lexer": "ipython3",
   "version": "3.6.8"
  }
 },
 "nbformat": 4,
 "nbformat_minor": 5
}
