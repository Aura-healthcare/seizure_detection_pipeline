{
 "cells": [
  {
   "cell_type": "code",
   "execution_count": 1,
   "id": "cc0f2647",
   "metadata": {},
   "outputs": [],
   "source": [
    "import sys\n",
    "sys.path.append(\"..\")\n",
    "\n",
    "from src.usecase.consolidate_feats_and_annot import read_tse_bi\n",
    "from src.usecase.fetch_database import create_df_from_file_pattern\n",
    "import pandas as pd\n",
    "import os\n",
    "import seaborn as sns\n",
    "import re"
   ]
  },
  {
   "cell_type": "code",
   "execution_count": 2,
   "id": "4598ee5d",
   "metadata": {},
   "outputs": [],
   "source": [
    "DATASET_PATIENT_PATTERN = r\"[P][A][T][_][0-9]*\"\n",
    "DATASET_EXAM_PATTERN = r\"[E][E][G][_][0-9]*\"\n",
    "ANNOTATION_FILE_PATTERN = \"*.tse_bi\""
   ]
  },
  {
   "cell_type": "code",
   "execution_count": 3,
   "id": "5157511e",
   "metadata": {},
   "outputs": [
    {
     "name": "stdout",
     "output_type": "stream",
     "text": [
      "                                      ecg_qc_file_path  exam_id patient_id\n",
      "0    ../output/res-comp-v0_6/PAT_22/qc_qrs_EEG_304_...  EEG_304     PAT_22\n",
      "1    ../output/res-comp-v0_6/PAT_22/qc_qrs_EEG_311_...  EEG_311     PAT_22\n",
      "2    ../output/res-comp-v0_6/PAT_22/qc_qrs_EEG_304_...  EEG_304     PAT_22\n",
      "3    ../output/res-comp-v0_6/PAT_22/qc_qrs_EEG_311_...  EEG_311     PAT_22\n",
      "4    ../output/res-comp-v0_6/PAT_22/qc_qrs_EEG_304_...  EEG_304     PAT_22\n",
      "..                                                 ...      ...        ...\n",
      "401  ../output/res-comp-v0_6/PAT_9/qc_qrs_EEG_103_s...  EEG_103      PAT_9\n",
      "402  ../output/res-comp-v0_6/PAT_9/qc_qrs_EEG_103_s...  EEG_103      PAT_9\n",
      "403  ../output/res-comp-v0_6/PAT_9/qc_qrs_EEG_103_s...  EEG_103      PAT_9\n",
      "404  ../output/res-comp-v0_6/PAT_9/qc_qrs_EEG_103_s...  EEG_103      PAT_9\n",
      "405  ../output/res-comp-v0_6/PAT_9/qc_qrs_EEG_103_s...  EEG_103      PAT_9\n",
      "\n",
      "[406 rows x 3 columns]\n"
     ]
    }
   ],
   "source": [
    "df = create_df_from_file_pattern(\n",
    "    data_folder_path='../output/res-comp-v0_6',\n",
    "    file_pattern=ANNOTATION_FILE_PATTERN,\n",
    "    file_label='ecg_qc',\n",
    "    patient_pattern=DATASET_PATIENT_PATTERN,\n",
    "    exam_pattern=DATASET_EXAM_PATTERN)\n",
    "print(df)"
   ]
  },
  {
   "cell_type": "code",
   "execution_count": 86,
   "id": "a343c7c5",
   "metadata": {},
   "outputs": [],
   "source": [
    "def compute_stats_files(tse_bi_file):\n",
    "    \n",
    "    df = read_tse_bi(tse_bi_file)\n",
    "    df['length'] = df['end'] - df['start']\n",
    "    total_length = df['length'].sum()\n",
    "    total_noise = df[df['annotation'] == 'noisy']['length'].sum()\n",
    "    total_clean = df[df['annotation'] == 'clean']['length'].sum()\n",
    "    small_chunks = df[(df['annotation'] == 'noisy') & (df['length'].dt.seconds <= 8)].shape[0]\n",
    "    big_chunks = df[(df['annotation'] == 'noisy') & (df['length'].dt.seconds >= 8)].shape[0]\n",
    "    very_big_chunks = df[(df['annotation'] == 'noisy') & (df['length'].dt.seconds >= 8)].shape[0]\n",
    "    # df[['ratio_clean', 'small_chunks']].fillna(0)\n",
    "    if str(total_noise) == \"NaT\":\n",
    "        total_noise = pd.Timedelta(seconds=0)\n",
    "    if str(total_clean) == \"NaT\":\n",
    "        total_clean = pd.Timedelta(seconds=0)\n",
    "\n",
    "    return total_length, total_noise, total_clean, small_chunks, big_chunks, very_big_chunks"
   ]
  },
  {
   "cell_type": "code",
   "execution_count": 87,
   "id": "f4f74615",
   "metadata": {},
   "outputs": [
    {
     "name": "stderr",
     "output_type": "stream",
     "text": [
      "/home/aura-alexis/github/seizure_detection_pipeline/env/lib64/python3.6/site-packages/pandas/core/frame.py:4327: SettingWithCopyWarning: \n",
      "A value is trying to be set on a copy of a slice from a DataFrame\n",
      "\n",
      "See the caveats in the documentation: https://pandas.pydata.org/pandas-docs/stable/user_guide/indexing.html#returning-a-view-versus-a-copy\n",
      "  downcast=downcast,\n"
     ]
    },
    {
     "data": {
      "text/html": [
       "<div>\n",
       "<style scoped>\n",
       "    .dataframe tbody tr th:only-of-type {\n",
       "        vertical-align: middle;\n",
       "    }\n",
       "\n",
       "    .dataframe tbody tr th {\n",
       "        vertical-align: top;\n",
       "    }\n",
       "\n",
       "    .dataframe thead th {\n",
       "        text-align: right;\n",
       "    }\n",
       "</style>\n",
       "<table border=\"1\" class=\"dataframe\">\n",
       "  <thead>\n",
       "    <tr style=\"text-align: right;\">\n",
       "      <th></th>\n",
       "      <th>ecg_qc_file_path</th>\n",
       "      <th>exam_id</th>\n",
       "      <th>patient_id</th>\n",
       "      <th>total_length</th>\n",
       "      <th>total_noise</th>\n",
       "      <th>total_clean</th>\n",
       "      <th>small_chunks</th>\n",
       "      <th>big_chunks</th>\n",
       "      <th>very_big_chunks</th>\n",
       "      <th>ratio_clean</th>\n",
       "      <th>ratio_small_chunks</th>\n",
       "    </tr>\n",
       "  </thead>\n",
       "  <tbody>\n",
       "    <tr>\n",
       "      <th>0</th>\n",
       "      <td>../output/res-comp-v0_6/PAT_22/qc_qrs_EEG_304_...</td>\n",
       "      <td>EEG_304</td>\n",
       "      <td>PAT_22</td>\n",
       "      <td>0 days 01:27:40</td>\n",
       "      <td>0 days 01:27:40</td>\n",
       "      <td>0 days 00:00:00</td>\n",
       "      <td>0.0</td>\n",
       "      <td>1.0</td>\n",
       "      <td>1.0</td>\n",
       "      <td>0.000000</td>\n",
       "      <td>0.000000</td>\n",
       "    </tr>\n",
       "    <tr>\n",
       "      <th>1</th>\n",
       "      <td>../output/res-comp-v0_6/PAT_22/qc_qrs_EEG_311_...</td>\n",
       "      <td>EEG_311</td>\n",
       "      <td>PAT_22</td>\n",
       "      <td>0 days 00:32:20</td>\n",
       "      <td>0 days 00:32:20</td>\n",
       "      <td>0 days 00:00:00</td>\n",
       "      <td>0.0</td>\n",
       "      <td>1.0</td>\n",
       "      <td>1.0</td>\n",
       "      <td>0.000000</td>\n",
       "      <td>0.000000</td>\n",
       "    </tr>\n",
       "    <tr>\n",
       "      <th>2</th>\n",
       "      <td>../output/res-comp-v0_6/PAT_22/qc_qrs_EEG_304_...</td>\n",
       "      <td>EEG_304</td>\n",
       "      <td>PAT_22</td>\n",
       "      <td>0 days 00:03:34</td>\n",
       "      <td>0 days 00:00:00</td>\n",
       "      <td>0 days 00:03:34</td>\n",
       "      <td>0.0</td>\n",
       "      <td>0.0</td>\n",
       "      <td>0.0</td>\n",
       "      <td>1.000000</td>\n",
       "      <td>0.000000</td>\n",
       "    </tr>\n",
       "    <tr>\n",
       "      <th>3</th>\n",
       "      <td>../output/res-comp-v0_6/PAT_22/qc_qrs_EEG_311_...</td>\n",
       "      <td>EEG_311</td>\n",
       "      <td>PAT_22</td>\n",
       "      <td>0 days 00:17:50</td>\n",
       "      <td>0 days 00:00:14</td>\n",
       "      <td>0 days 00:17:36</td>\n",
       "      <td>3.0</td>\n",
       "      <td>0.0</td>\n",
       "      <td>0.0</td>\n",
       "      <td>0.986916</td>\n",
       "      <td>0.011215</td>\n",
       "    </tr>\n",
       "    <tr>\n",
       "      <th>4</th>\n",
       "      <td>../output/res-comp-v0_6/PAT_22/qc_qrs_EEG_304_...</td>\n",
       "      <td>EEG_304</td>\n",
       "      <td>PAT_22</td>\n",
       "      <td>0 days 00:07:32</td>\n",
       "      <td>0 days 00:01:04</td>\n",
       "      <td>0 days 00:06:28</td>\n",
       "      <td>19.0</td>\n",
       "      <td>1.0</td>\n",
       "      <td>1.0</td>\n",
       "      <td>0.858407</td>\n",
       "      <td>0.168142</td>\n",
       "    </tr>\n",
       "  </tbody>\n",
       "</table>\n",
       "</div>"
      ],
      "text/plain": [
       "                                    ecg_qc_file_path  exam_id patient_id  \\\n",
       "0  ../output/res-comp-v0_6/PAT_22/qc_qrs_EEG_304_...  EEG_304     PAT_22   \n",
       "1  ../output/res-comp-v0_6/PAT_22/qc_qrs_EEG_311_...  EEG_311     PAT_22   \n",
       "2  ../output/res-comp-v0_6/PAT_22/qc_qrs_EEG_304_...  EEG_304     PAT_22   \n",
       "3  ../output/res-comp-v0_6/PAT_22/qc_qrs_EEG_311_...  EEG_311     PAT_22   \n",
       "4  ../output/res-comp-v0_6/PAT_22/qc_qrs_EEG_304_...  EEG_304     PAT_22   \n",
       "\n",
       "     total_length     total_noise     total_clean  small_chunks  big_chunks  \\\n",
       "0 0 days 01:27:40 0 days 01:27:40 0 days 00:00:00           0.0         1.0   \n",
       "1 0 days 00:32:20 0 days 00:32:20 0 days 00:00:00           0.0         1.0   \n",
       "2 0 days 00:03:34 0 days 00:00:00 0 days 00:03:34           0.0         0.0   \n",
       "3 0 days 00:17:50 0 days 00:00:14 0 days 00:17:36           3.0         0.0   \n",
       "4 0 days 00:07:32 0 days 00:01:04 0 days 00:06:28          19.0         1.0   \n",
       "\n",
       "   very_big_chunks  ratio_clean  ratio_small_chunks  \n",
       "0              1.0     0.000000            0.000000  \n",
       "1              1.0     0.000000            0.000000  \n",
       "2              0.0     1.000000            0.000000  \n",
       "3              0.0     0.986916            0.011215  \n",
       "4              1.0     0.858407            0.168142  "
      ]
     },
     "execution_count": 87,
     "metadata": {},
     "output_type": "execute_result"
    }
   ],
   "source": [
    "for i in df.index:\n",
    "    total_length, total_noise, total_clean, small_chunks, big_chunks, very_big_chunks = compute_stats_files(df.loc[i, 'ecg_qc_file_path'])\n",
    "    df.loc[i, 'total_length'] = total_length\n",
    "    df.loc[i, 'total_noise'] = total_noise\n",
    "    df.loc[i, 'total_clean'] = total_clean\n",
    "    df.loc[i, 'small_chunks'] = small_chunks\n",
    "    df.loc[i, 'big_chunks'] = big_chunks\n",
    "    df.loc[i, 'very_big_chunks'] = very_big_chunks\n",
    "    \n",
    "\n",
    "df[['total_length', 'total_noise', 'total_clean']].fillna(pd.Timedelta(seconds=0), inplace=True)\n",
    "df['ratio_clean'] = df['total_clean'] / df['total_length']\n",
    "df['ratio_small_chunks'] = df['small_chunks']*4 / df['total_length'].dt.seconds\n",
    "\n",
    "df.head()"
   ]
  },
  {
   "cell_type": "code",
   "execution_count": 88,
   "id": "44473624",
   "metadata": {},
   "outputs": [
    {
     "data": {
      "text/html": [
       "<div>\n",
       "<style scoped>\n",
       "    .dataframe tbody tr th:only-of-type {\n",
       "        vertical-align: middle;\n",
       "    }\n",
       "\n",
       "    .dataframe tbody tr th {\n",
       "        vertical-align: top;\n",
       "    }\n",
       "\n",
       "    .dataframe thead th {\n",
       "        text-align: right;\n",
       "    }\n",
       "</style>\n",
       "<table border=\"1\" class=\"dataframe\">\n",
       "  <thead>\n",
       "    <tr style=\"text-align: right;\">\n",
       "      <th></th>\n",
       "      <th>ecg_qc_file_path</th>\n",
       "      <th>exam_id</th>\n",
       "      <th>patient_id</th>\n",
       "      <th>total_length</th>\n",
       "      <th>total_noise</th>\n",
       "      <th>total_clean</th>\n",
       "      <th>small_chunks</th>\n",
       "      <th>big_chunks</th>\n",
       "      <th>very_big_chunks</th>\n",
       "      <th>ratio_clean</th>\n",
       "      <th>ratio_small_chunks</th>\n",
       "    </tr>\n",
       "  </thead>\n",
       "  <tbody>\n",
       "  </tbody>\n",
       "</table>\n",
       "</div>"
      ],
      "text/plain": [
       "Empty DataFrame\n",
       "Columns: [ecg_qc_file_path, exam_id, patient_id, total_length, total_noise, total_clean, small_chunks, big_chunks, very_big_chunks, ratio_clean, ratio_small_chunks]\n",
       "Index: []"
      ]
     },
     "execution_count": 88,
     "metadata": {},
     "output_type": "execute_result"
    }
   ],
   "source": [
    "df[df['ratio_clean'].isna()]"
   ]
  },
  {
   "cell_type": "code",
   "execution_count": 89,
   "id": "52be916e",
   "metadata": {},
   "outputs": [
    {
     "data": {
      "text/plain": [
       "0.2591354284314253"
      ]
     },
     "execution_count": 89,
     "metadata": {},
     "output_type": "execute_result"
    }
   ],
   "source": [
    "df[df['very_big_chunks'] <= 0]['total_length'].dt.seconds.sum() / df['total_length'].dt.seconds.sum()"
   ]
  },
  {
   "cell_type": "code",
   "execution_count": 90,
   "id": "c7cbb1c2",
   "metadata": {},
   "outputs": [
    {
     "data": {
      "text/html": [
       "<div>\n",
       "<style scoped>\n",
       "    .dataframe tbody tr th:only-of-type {\n",
       "        vertical-align: middle;\n",
       "    }\n",
       "\n",
       "    .dataframe tbody tr th {\n",
       "        vertical-align: top;\n",
       "    }\n",
       "\n",
       "    .dataframe thead th {\n",
       "        text-align: right;\n",
       "    }\n",
       "</style>\n",
       "<table border=\"1\" class=\"dataframe\">\n",
       "  <thead>\n",
       "    <tr style=\"text-align: right;\">\n",
       "      <th></th>\n",
       "      <th>total_length</th>\n",
       "      <th>very_big_chunks</th>\n",
       "    </tr>\n",
       "  </thead>\n",
       "  <tbody>\n",
       "    <tr>\n",
       "      <th>0</th>\n",
       "      <td>0 days 01:27:40</td>\n",
       "      <td>1.0</td>\n",
       "    </tr>\n",
       "    <tr>\n",
       "      <th>1</th>\n",
       "      <td>0 days 00:32:20</td>\n",
       "      <td>1.0</td>\n",
       "    </tr>\n",
       "    <tr>\n",
       "      <th>4</th>\n",
       "      <td>0 days 00:07:32</td>\n",
       "      <td>1.0</td>\n",
       "    </tr>\n",
       "    <tr>\n",
       "      <th>6</th>\n",
       "      <td>0 days 00:46:12</td>\n",
       "      <td>2.0</td>\n",
       "    </tr>\n",
       "    <tr>\n",
       "      <th>21</th>\n",
       "      <td>0 days 00:01:42</td>\n",
       "      <td>1.0</td>\n",
       "    </tr>\n",
       "    <tr>\n",
       "      <th>...</th>\n",
       "      <td>...</td>\n",
       "      <td>...</td>\n",
       "    </tr>\n",
       "    <tr>\n",
       "      <th>345</th>\n",
       "      <td>0 days 06:15:48</td>\n",
       "      <td>5.0</td>\n",
       "    </tr>\n",
       "    <tr>\n",
       "      <th>349</th>\n",
       "      <td>0 days 16:28:22</td>\n",
       "      <td>106.0</td>\n",
       "    </tr>\n",
       "    <tr>\n",
       "      <th>350</th>\n",
       "      <td>0 days 00:30:30</td>\n",
       "      <td>3.0</td>\n",
       "    </tr>\n",
       "    <tr>\n",
       "      <th>363</th>\n",
       "      <td>0 days 00:16:18</td>\n",
       "      <td>2.0</td>\n",
       "    </tr>\n",
       "    <tr>\n",
       "      <th>365</th>\n",
       "      <td>0 days 06:43:24</td>\n",
       "      <td>52.0</td>\n",
       "    </tr>\n",
       "  </tbody>\n",
       "</table>\n",
       "<p>78 rows × 2 columns</p>\n",
       "</div>"
      ],
      "text/plain": [
       "       total_length  very_big_chunks\n",
       "0   0 days 01:27:40              1.0\n",
       "1   0 days 00:32:20              1.0\n",
       "4   0 days 00:07:32              1.0\n",
       "6   0 days 00:46:12              2.0\n",
       "21  0 days 00:01:42              1.0\n",
       "..              ...              ...\n",
       "345 0 days 06:15:48              5.0\n",
       "349 0 days 16:28:22            106.0\n",
       "350 0 days 00:30:30              3.0\n",
       "363 0 days 00:16:18              2.0\n",
       "365 0 days 06:43:24             52.0\n",
       "\n",
       "[78 rows x 2 columns]"
      ]
     },
     "execution_count": 90,
     "metadata": {},
     "output_type": "execute_result"
    }
   ],
   "source": [
    "df[df['very_big_chunks'] >= 1][['total_length', 'very_big_chunks']]"
   ]
  },
  {
   "cell_type": "code",
   "execution_count": 54,
   "id": "2ab73807",
   "metadata": {},
   "outputs": [
    {
     "data": {
      "text/html": [
       "<div>\n",
       "<style scoped>\n",
       "    .dataframe tbody tr th:only-of-type {\n",
       "        vertical-align: middle;\n",
       "    }\n",
       "\n",
       "    .dataframe tbody tr th {\n",
       "        vertical-align: top;\n",
       "    }\n",
       "\n",
       "    .dataframe thead th {\n",
       "        text-align: right;\n",
       "    }\n",
       "</style>\n",
       "<table border=\"1\" class=\"dataframe\">\n",
       "  <thead>\n",
       "    <tr style=\"text-align: right;\">\n",
       "      <th></th>\n",
       "      <th>ecg_qc_file_path</th>\n",
       "      <th>exam_id</th>\n",
       "      <th>patient_id</th>\n",
       "      <th>total_length</th>\n",
       "      <th>total_noise</th>\n",
       "      <th>total_clean</th>\n",
       "      <th>small_chunks</th>\n",
       "      <th>big_chunks</th>\n",
       "      <th>very_big_chunks</th>\n",
       "      <th>ratio_clean</th>\n",
       "      <th>ratio_small_chunks</th>\n",
       "    </tr>\n",
       "  </thead>\n",
       "  <tbody>\n",
       "    <tr>\n",
       "      <th>203</th>\n",
       "      <td>../output/res-comp-v0_6/PAT_49/qc_qrs_EEG_638_...</td>\n",
       "      <td>EEG_638</td>\n",
       "      <td>PAT_49</td>\n",
       "      <td>0 days 00:00:28</td>\n",
       "      <td>0 days 00:00:00</td>\n",
       "      <td>0 days 00:00:28</td>\n",
       "      <td>0.0</td>\n",
       "      <td>0.0</td>\n",
       "      <td>0.0</td>\n",
       "      <td>1.0</td>\n",
       "      <td>0.0</td>\n",
       "    </tr>\n",
       "    <tr>\n",
       "      <th>247</th>\n",
       "      <td>../output/res-comp-v0_6/PAT_52/qc_qrs_EEG_714_...</td>\n",
       "      <td>EEG_714</td>\n",
       "      <td>PAT_52</td>\n",
       "      <td>0 days 00:00:54</td>\n",
       "      <td>0 days 00:00:00</td>\n",
       "      <td>0 days 00:00:54</td>\n",
       "      <td>0.0</td>\n",
       "      <td>0.0</td>\n",
       "      <td>0.0</td>\n",
       "      <td>1.0</td>\n",
       "      <td>0.0</td>\n",
       "    </tr>\n",
       "    <tr>\n",
       "      <th>255</th>\n",
       "      <td>../output/res-comp-v0_6/PAT_52/qc_qrs_EEG_689_...</td>\n",
       "      <td>EEG_689</td>\n",
       "      <td>PAT_52</td>\n",
       "      <td>0 days 00:01:26</td>\n",
       "      <td>0 days 00:00:00</td>\n",
       "      <td>0 days 00:01:26</td>\n",
       "      <td>0.0</td>\n",
       "      <td>0.0</td>\n",
       "      <td>0.0</td>\n",
       "      <td>1.0</td>\n",
       "      <td>0.0</td>\n",
       "    </tr>\n",
       "    <tr>\n",
       "      <th>253</th>\n",
       "      <td>../output/res-comp-v0_6/PAT_52/qc_qrs_EEG_714_...</td>\n",
       "      <td>EEG_714</td>\n",
       "      <td>PAT_52</td>\n",
       "      <td>0 days 00:14:52</td>\n",
       "      <td>0 days 00:00:00</td>\n",
       "      <td>0 days 00:14:52</td>\n",
       "      <td>0.0</td>\n",
       "      <td>0.0</td>\n",
       "      <td>0.0</td>\n",
       "      <td>1.0</td>\n",
       "      <td>0.0</td>\n",
       "    </tr>\n",
       "    <tr>\n",
       "      <th>252</th>\n",
       "      <td>../output/res-comp-v0_6/PAT_52/qc_qrs_EEG_689_...</td>\n",
       "      <td>EEG_689</td>\n",
       "      <td>PAT_52</td>\n",
       "      <td>0 days 00:00:50</td>\n",
       "      <td>0 days 00:00:00</td>\n",
       "      <td>0 days 00:00:50</td>\n",
       "      <td>0.0</td>\n",
       "      <td>0.0</td>\n",
       "      <td>0.0</td>\n",
       "      <td>1.0</td>\n",
       "      <td>0.0</td>\n",
       "    </tr>\n",
       "    <tr>\n",
       "      <th>...</th>\n",
       "      <td>...</td>\n",
       "      <td>...</td>\n",
       "      <td>...</td>\n",
       "      <td>...</td>\n",
       "      <td>...</td>\n",
       "      <td>...</td>\n",
       "      <td>...</td>\n",
       "      <td>...</td>\n",
       "      <td>...</td>\n",
       "      <td>...</td>\n",
       "      <td>...</td>\n",
       "    </tr>\n",
       "    <tr>\n",
       "      <th>118</th>\n",
       "      <td>../output/res-comp-v0_6/PAT_44/qc_qrs_EEG_573_...</td>\n",
       "      <td>EEG_573</td>\n",
       "      <td>PAT_44</td>\n",
       "      <td>0 days 00:15:22</td>\n",
       "      <td>0 days 00:15:22</td>\n",
       "      <td>0 days 00:00:00</td>\n",
       "      <td>0.0</td>\n",
       "      <td>1.0</td>\n",
       "      <td>1.0</td>\n",
       "      <td>0.0</td>\n",
       "      <td>0.0</td>\n",
       "    </tr>\n",
       "    <tr>\n",
       "      <th>1</th>\n",
       "      <td>../output/res-comp-v0_6/PAT_22/qc_qrs_EEG_311_...</td>\n",
       "      <td>EEG_311</td>\n",
       "      <td>PAT_22</td>\n",
       "      <td>0 days 00:32:20</td>\n",
       "      <td>0 days 00:32:20</td>\n",
       "      <td>0 days 00:00:00</td>\n",
       "      <td>0.0</td>\n",
       "      <td>1.0</td>\n",
       "      <td>1.0</td>\n",
       "      <td>0.0</td>\n",
       "      <td>0.0</td>\n",
       "    </tr>\n",
       "    <tr>\n",
       "      <th>134</th>\n",
       "      <td>../output/res-comp-v0_6/PAT_46/qc_qrs_EEG_593_...</td>\n",
       "      <td>EEG_593</td>\n",
       "      <td>PAT_46</td>\n",
       "      <td>0 days 00:06:28</td>\n",
       "      <td>0 days 00:06:28</td>\n",
       "      <td>0 days 00:00:00</td>\n",
       "      <td>0.0</td>\n",
       "      <td>1.0</td>\n",
       "      <td>1.0</td>\n",
       "      <td>0.0</td>\n",
       "      <td>0.0</td>\n",
       "    </tr>\n",
       "    <tr>\n",
       "      <th>136</th>\n",
       "      <td>../output/res-comp-v0_6/PAT_46/qc_qrs_EEG_593_...</td>\n",
       "      <td>EEG_593</td>\n",
       "      <td>PAT_46</td>\n",
       "      <td>0 days 00:01:22</td>\n",
       "      <td>0 days 00:01:22</td>\n",
       "      <td>0 days 00:00:00</td>\n",
       "      <td>0.0</td>\n",
       "      <td>1.0</td>\n",
       "      <td>1.0</td>\n",
       "      <td>0.0</td>\n",
       "      <td>0.0</td>\n",
       "    </tr>\n",
       "    <tr>\n",
       "      <th>0</th>\n",
       "      <td>../output/res-comp-v0_6/PAT_22/qc_qrs_EEG_304_...</td>\n",
       "      <td>EEG_304</td>\n",
       "      <td>PAT_22</td>\n",
       "      <td>0 days 01:27:40</td>\n",
       "      <td>0 days 01:27:40</td>\n",
       "      <td>0 days 00:00:00</td>\n",
       "      <td>0.0</td>\n",
       "      <td>1.0</td>\n",
       "      <td>1.0</td>\n",
       "      <td>0.0</td>\n",
       "      <td>0.0</td>\n",
       "    </tr>\n",
       "  </tbody>\n",
       "</table>\n",
       "<p>406 rows × 11 columns</p>\n",
       "</div>"
      ],
      "text/plain": [
       "                                      ecg_qc_file_path  exam_id patient_id  \\\n",
       "203  ../output/res-comp-v0_6/PAT_49/qc_qrs_EEG_638_...  EEG_638     PAT_49   \n",
       "247  ../output/res-comp-v0_6/PAT_52/qc_qrs_EEG_714_...  EEG_714     PAT_52   \n",
       "255  ../output/res-comp-v0_6/PAT_52/qc_qrs_EEG_689_...  EEG_689     PAT_52   \n",
       "253  ../output/res-comp-v0_6/PAT_52/qc_qrs_EEG_714_...  EEG_714     PAT_52   \n",
       "252  ../output/res-comp-v0_6/PAT_52/qc_qrs_EEG_689_...  EEG_689     PAT_52   \n",
       "..                                                 ...      ...        ...   \n",
       "118  ../output/res-comp-v0_6/PAT_44/qc_qrs_EEG_573_...  EEG_573     PAT_44   \n",
       "1    ../output/res-comp-v0_6/PAT_22/qc_qrs_EEG_311_...  EEG_311     PAT_22   \n",
       "134  ../output/res-comp-v0_6/PAT_46/qc_qrs_EEG_593_...  EEG_593     PAT_46   \n",
       "136  ../output/res-comp-v0_6/PAT_46/qc_qrs_EEG_593_...  EEG_593     PAT_46   \n",
       "0    ../output/res-comp-v0_6/PAT_22/qc_qrs_EEG_304_...  EEG_304     PAT_22   \n",
       "\n",
       "       total_length     total_noise     total_clean  small_chunks  big_chunks  \\\n",
       "203 0 days 00:00:28 0 days 00:00:00 0 days 00:00:28           0.0         0.0   \n",
       "247 0 days 00:00:54 0 days 00:00:00 0 days 00:00:54           0.0         0.0   \n",
       "255 0 days 00:01:26 0 days 00:00:00 0 days 00:01:26           0.0         0.0   \n",
       "253 0 days 00:14:52 0 days 00:00:00 0 days 00:14:52           0.0         0.0   \n",
       "252 0 days 00:00:50 0 days 00:00:00 0 days 00:00:50           0.0         0.0   \n",
       "..              ...             ...             ...           ...         ...   \n",
       "118 0 days 00:15:22 0 days 00:15:22 0 days 00:00:00           0.0         1.0   \n",
       "1   0 days 00:32:20 0 days 00:32:20 0 days 00:00:00           0.0         1.0   \n",
       "134 0 days 00:06:28 0 days 00:06:28 0 days 00:00:00           0.0         1.0   \n",
       "136 0 days 00:01:22 0 days 00:01:22 0 days 00:00:00           0.0         1.0   \n",
       "0   0 days 01:27:40 0 days 01:27:40 0 days 00:00:00           0.0         1.0   \n",
       "\n",
       "     very_big_chunks  ratio_clean  ratio_small_chunks  \n",
       "203              0.0          1.0                 0.0  \n",
       "247              0.0          1.0                 0.0  \n",
       "255              0.0          1.0                 0.0  \n",
       "253              0.0          1.0                 0.0  \n",
       "252              0.0          1.0                 0.0  \n",
       "..               ...          ...                 ...  \n",
       "118              1.0          0.0                 0.0  \n",
       "1                1.0          0.0                 0.0  \n",
       "134              1.0          0.0                 0.0  \n",
       "136              1.0          0.0                 0.0  \n",
       "0                1.0          0.0                 0.0  \n",
       "\n",
       "[406 rows x 11 columns]"
      ]
     },
     "execution_count": 54,
     "metadata": {},
     "output_type": "execute_result"
    }
   ],
   "source": [
    "# Top noisy\n",
    "\n",
    "df.sort_values('ratio_clean', ascending=False)"
   ]
  },
  {
   "cell_type": "code",
   "execution_count": 37,
   "id": "fedff484",
   "metadata": {},
   "outputs": [
    {
     "data": {
      "text/html": [
       "<div>\n",
       "<style scoped>\n",
       "    .dataframe tbody tr th:only-of-type {\n",
       "        vertical-align: middle;\n",
       "    }\n",
       "\n",
       "    .dataframe tbody tr th {\n",
       "        vertical-align: top;\n",
       "    }\n",
       "\n",
       "    .dataframe thead th {\n",
       "        text-align: right;\n",
       "    }\n",
       "</style>\n",
       "<table border=\"1\" class=\"dataframe\">\n",
       "  <thead>\n",
       "    <tr style=\"text-align: right;\">\n",
       "      <th></th>\n",
       "      <th>ecg_qc_file_path</th>\n",
       "      <th>exam_id</th>\n",
       "      <th>patient_id</th>\n",
       "      <th>total_length</th>\n",
       "      <th>total_noise</th>\n",
       "      <th>total_clean</th>\n",
       "      <th>small_chunks</th>\n",
       "      <th>big_chunks</th>\n",
       "      <th>very_big_chunks</th>\n",
       "      <th>ratio_clean</th>\n",
       "      <th>ratio_small_chunks</th>\n",
       "    </tr>\n",
       "  </thead>\n",
       "  <tbody>\n",
       "    <tr>\n",
       "      <th>203</th>\n",
       "      <td>../output/res-comp-v0_6/PAT_49/qc_qrs_EEG_638_...</td>\n",
       "      <td>EEG_638</td>\n",
       "      <td>PAT_49</td>\n",
       "      <td>0 days 00:00:28</td>\n",
       "      <td>0 days 00:00:00</td>\n",
       "      <td>0 days 00:00:28</td>\n",
       "      <td>0.0</td>\n",
       "      <td>0.0</td>\n",
       "      <td>0.0</td>\n",
       "      <td>1.0</td>\n",
       "      <td>0.0</td>\n",
       "    </tr>\n",
       "    <tr>\n",
       "      <th>247</th>\n",
       "      <td>../output/res-comp-v0_6/PAT_52/qc_qrs_EEG_714_...</td>\n",
       "      <td>EEG_714</td>\n",
       "      <td>PAT_52</td>\n",
       "      <td>0 days 00:00:54</td>\n",
       "      <td>0 days 00:00:00</td>\n",
       "      <td>0 days 00:00:54</td>\n",
       "      <td>0.0</td>\n",
       "      <td>0.0</td>\n",
       "      <td>0.0</td>\n",
       "      <td>1.0</td>\n",
       "      <td>0.0</td>\n",
       "    </tr>\n",
       "    <tr>\n",
       "      <th>255</th>\n",
       "      <td>../output/res-comp-v0_6/PAT_52/qc_qrs_EEG_689_...</td>\n",
       "      <td>EEG_689</td>\n",
       "      <td>PAT_52</td>\n",
       "      <td>0 days 00:01:26</td>\n",
       "      <td>0 days 00:00:00</td>\n",
       "      <td>0 days 00:01:26</td>\n",
       "      <td>0.0</td>\n",
       "      <td>0.0</td>\n",
       "      <td>0.0</td>\n",
       "      <td>1.0</td>\n",
       "      <td>0.0</td>\n",
       "    </tr>\n",
       "    <tr>\n",
       "      <th>253</th>\n",
       "      <td>../output/res-comp-v0_6/PAT_52/qc_qrs_EEG_714_...</td>\n",
       "      <td>EEG_714</td>\n",
       "      <td>PAT_52</td>\n",
       "      <td>0 days 00:14:52</td>\n",
       "      <td>0 days 00:00:00</td>\n",
       "      <td>0 days 00:14:52</td>\n",
       "      <td>0.0</td>\n",
       "      <td>0.0</td>\n",
       "      <td>0.0</td>\n",
       "      <td>1.0</td>\n",
       "      <td>0.0</td>\n",
       "    </tr>\n",
       "    <tr>\n",
       "      <th>252</th>\n",
       "      <td>../output/res-comp-v0_6/PAT_52/qc_qrs_EEG_689_...</td>\n",
       "      <td>EEG_689</td>\n",
       "      <td>PAT_52</td>\n",
       "      <td>0 days 00:00:50</td>\n",
       "      <td>0 days 00:00:00</td>\n",
       "      <td>0 days 00:00:50</td>\n",
       "      <td>0.0</td>\n",
       "      <td>0.0</td>\n",
       "      <td>0.0</td>\n",
       "      <td>1.0</td>\n",
       "      <td>0.0</td>\n",
       "    </tr>\n",
       "    <tr>\n",
       "      <th>...</th>\n",
       "      <td>...</td>\n",
       "      <td>...</td>\n",
       "      <td>...</td>\n",
       "      <td>...</td>\n",
       "      <td>...</td>\n",
       "      <td>...</td>\n",
       "      <td>...</td>\n",
       "      <td>...</td>\n",
       "      <td>...</td>\n",
       "      <td>...</td>\n",
       "      <td>...</td>\n",
       "    </tr>\n",
       "    <tr>\n",
       "      <th>118</th>\n",
       "      <td>../output/res-comp-v0_6/PAT_44/qc_qrs_EEG_573_...</td>\n",
       "      <td>EEG_573</td>\n",
       "      <td>PAT_44</td>\n",
       "      <td>0 days 00:15:22</td>\n",
       "      <td>0 days 00:15:22</td>\n",
       "      <td>0 days 00:00:00</td>\n",
       "      <td>0.0</td>\n",
       "      <td>1.0</td>\n",
       "      <td>1.0</td>\n",
       "      <td>0.0</td>\n",
       "      <td>0.0</td>\n",
       "    </tr>\n",
       "    <tr>\n",
       "      <th>1</th>\n",
       "      <td>../output/res-comp-v0_6/PAT_22/qc_qrs_EEG_311_...</td>\n",
       "      <td>EEG_311</td>\n",
       "      <td>PAT_22</td>\n",
       "      <td>0 days 00:32:20</td>\n",
       "      <td>0 days 00:32:20</td>\n",
       "      <td>0 days 00:00:00</td>\n",
       "      <td>0.0</td>\n",
       "      <td>1.0</td>\n",
       "      <td>1.0</td>\n",
       "      <td>0.0</td>\n",
       "      <td>0.0</td>\n",
       "    </tr>\n",
       "    <tr>\n",
       "      <th>134</th>\n",
       "      <td>../output/res-comp-v0_6/PAT_46/qc_qrs_EEG_593_...</td>\n",
       "      <td>EEG_593</td>\n",
       "      <td>PAT_46</td>\n",
       "      <td>0 days 00:06:28</td>\n",
       "      <td>0 days 00:06:28</td>\n",
       "      <td>0 days 00:00:00</td>\n",
       "      <td>0.0</td>\n",
       "      <td>1.0</td>\n",
       "      <td>1.0</td>\n",
       "      <td>0.0</td>\n",
       "      <td>0.0</td>\n",
       "    </tr>\n",
       "    <tr>\n",
       "      <th>136</th>\n",
       "      <td>../output/res-comp-v0_6/PAT_46/qc_qrs_EEG_593_...</td>\n",
       "      <td>EEG_593</td>\n",
       "      <td>PAT_46</td>\n",
       "      <td>0 days 00:01:22</td>\n",
       "      <td>0 days 00:01:22</td>\n",
       "      <td>0 days 00:00:00</td>\n",
       "      <td>0.0</td>\n",
       "      <td>1.0</td>\n",
       "      <td>1.0</td>\n",
       "      <td>0.0</td>\n",
       "      <td>0.0</td>\n",
       "    </tr>\n",
       "    <tr>\n",
       "      <th>0</th>\n",
       "      <td>../output/res-comp-v0_6/PAT_22/qc_qrs_EEG_304_...</td>\n",
       "      <td>EEG_304</td>\n",
       "      <td>PAT_22</td>\n",
       "      <td>0 days 01:27:40</td>\n",
       "      <td>0 days 01:27:40</td>\n",
       "      <td>0 days 00:00:00</td>\n",
       "      <td>0.0</td>\n",
       "      <td>1.0</td>\n",
       "      <td>1.0</td>\n",
       "      <td>0.0</td>\n",
       "      <td>0.0</td>\n",
       "    </tr>\n",
       "  </tbody>\n",
       "</table>\n",
       "<p>406 rows × 11 columns</p>\n",
       "</div>"
      ],
      "text/plain": [
       "                                      ecg_qc_file_path  exam_id patient_id  \\\n",
       "203  ../output/res-comp-v0_6/PAT_49/qc_qrs_EEG_638_...  EEG_638     PAT_49   \n",
       "247  ../output/res-comp-v0_6/PAT_52/qc_qrs_EEG_714_...  EEG_714     PAT_52   \n",
       "255  ../output/res-comp-v0_6/PAT_52/qc_qrs_EEG_689_...  EEG_689     PAT_52   \n",
       "253  ../output/res-comp-v0_6/PAT_52/qc_qrs_EEG_714_...  EEG_714     PAT_52   \n",
       "252  ../output/res-comp-v0_6/PAT_52/qc_qrs_EEG_689_...  EEG_689     PAT_52   \n",
       "..                                                 ...      ...        ...   \n",
       "118  ../output/res-comp-v0_6/PAT_44/qc_qrs_EEG_573_...  EEG_573     PAT_44   \n",
       "1    ../output/res-comp-v0_6/PAT_22/qc_qrs_EEG_311_...  EEG_311     PAT_22   \n",
       "134  ../output/res-comp-v0_6/PAT_46/qc_qrs_EEG_593_...  EEG_593     PAT_46   \n",
       "136  ../output/res-comp-v0_6/PAT_46/qc_qrs_EEG_593_...  EEG_593     PAT_46   \n",
       "0    ../output/res-comp-v0_6/PAT_22/qc_qrs_EEG_304_...  EEG_304     PAT_22   \n",
       "\n",
       "       total_length     total_noise     total_clean  small_chunks  big_chunks  \\\n",
       "203 0 days 00:00:28 0 days 00:00:00 0 days 00:00:28           0.0         0.0   \n",
       "247 0 days 00:00:54 0 days 00:00:00 0 days 00:00:54           0.0         0.0   \n",
       "255 0 days 00:01:26 0 days 00:00:00 0 days 00:01:26           0.0         0.0   \n",
       "253 0 days 00:14:52 0 days 00:00:00 0 days 00:14:52           0.0         0.0   \n",
       "252 0 days 00:00:50 0 days 00:00:00 0 days 00:00:50           0.0         0.0   \n",
       "..              ...             ...             ...           ...         ...   \n",
       "118 0 days 00:15:22 0 days 00:15:22 0 days 00:00:00           0.0         1.0   \n",
       "1   0 days 00:32:20 0 days 00:32:20 0 days 00:00:00           0.0         1.0   \n",
       "134 0 days 00:06:28 0 days 00:06:28 0 days 00:00:00           0.0         1.0   \n",
       "136 0 days 00:01:22 0 days 00:01:22 0 days 00:00:00           0.0         1.0   \n",
       "0   0 days 01:27:40 0 days 01:27:40 0 days 00:00:00           0.0         1.0   \n",
       "\n",
       "     very_big_chunks  ratio_clean  ratio_small_chunks  \n",
       "203              0.0          1.0                 0.0  \n",
       "247              0.0          1.0                 0.0  \n",
       "255              0.0          1.0                 0.0  \n",
       "253              0.0          1.0                 0.0  \n",
       "252              0.0          1.0                 0.0  \n",
       "..               ...          ...                 ...  \n",
       "118              1.0          0.0                 0.0  \n",
       "1                1.0          0.0                 0.0  \n",
       "134              1.0          0.0                 0.0  \n",
       "136              1.0          0.0                 0.0  \n",
       "0                1.0          0.0                 0.0  \n",
       "\n",
       "[406 rows x 11 columns]"
      ]
     },
     "execution_count": 37,
     "metadata": {},
     "output_type": "execute_result"
    }
   ],
   "source": [
    "# Top clean\n",
    "df.sort_values('ratio_clean', ascending=False)"
   ]
  },
  {
   "cell_type": "code",
   "execution_count": 12,
   "id": "39ecd5e2",
   "metadata": {},
   "outputs": [
    {
     "data": {
      "text/plain": [
       "0.9312250885904998"
      ]
     },
     "execution_count": 12,
     "metadata": {},
     "output_type": "execute_result"
    }
   ],
   "source": [
    "# Ratio clean/noise\n",
    "df['total_clean'].dt.seconds.sum() / df['total_length'].dt.seconds.sum()"
   ]
  },
  {
   "cell_type": "code",
   "execution_count": 13,
   "id": "230965d0",
   "metadata": {},
   "outputs": [
    {
     "data": {
      "text/plain": [
       "<seaborn.axisgrid.FacetGrid at 0x7fbe46f46550>"
      ]
     },
     "execution_count": 13,
     "metadata": {},
     "output_type": "execute_result"
    },
    {
     "data": {
      "image/png": "[encoded data removed]",
      "text/plain": [
       "<Figure size 360x360 with 1 Axes>"
      ]
     },
     "metadata": {
      "needs_background": "light"
     },
     "output_type": "display_data"
    }
   ],
   "source": [
    "# Small chunks are scarse\n",
    "sns.displot(df['small_chunks'], kind='kde')"
   ]
  },
  {
   "cell_type": "code",
   "execution_count": 14,
   "id": "5e64c2db",
   "metadata": {},
   "outputs": [
    {
     "data": {
      "text/plain": [
       "<seaborn.axisgrid.FacetGrid at 0x7fbe3cd10d68>"
      ]
     },
     "execution_count": 14,
     "metadata": {},
     "output_type": "execute_result"
    },
    {
     "data": {
      "image/png": "[encoded data removed]",
      "text/plain": [
       "<Figure size 360x360 with 1 Axes>"
      ]
     },
     "metadata": {
      "needs_background": "light"
     },
     "output_type": "display_data"
    }
   ],
   "source": [
    "# Small chunks are scarse\n",
    "sns.displot(df['ratio_small_chunks'], kind='kde')"
   ]
  },
  {
   "cell_type": "code",
   "execution_count": 15,
   "id": "cd373f3d",
   "metadata": {
    "scrolled": true
   },
   "outputs": [
    {
     "data": {
      "text/plain": [
       "<seaborn.axisgrid.FacetGrid at 0x7fbe3cc90390>"
      ]
     },
     "execution_count": 15,
     "metadata": {},
     "output_type": "execute_result"
    },
    {
     "data": {
      "image/png": "[encoded data removed]",
      "text/plain": [
       "<Figure size 360x360 with 1 Axes>"
      ]
     },
     "metadata": {
      "needs_background": "light"
     },
     "output_type": "display_data"
    }
   ],
   "source": [
    "# They are quite rare\n",
    "sns.displot(df[df['small_chunks'] <= 50]['small_chunks'], kind='kde')"
   ]
  },
  {
   "cell_type": "code",
   "execution_count": 16,
   "id": "2db3e55c",
   "metadata": {},
   "outputs": [
    {
     "data": {
      "text/plain": [
       "<seaborn.axisgrid.FacetGrid at 0x7fbe8e639908>"
      ]
     },
     "execution_count": 16,
     "metadata": {},
     "output_type": "execute_result"
    },
    {
     "data": {
      "image/png": "[encoded data removed]",
      "text/plain": [
       "<Figure size 360x360 with 1 Axes>"
      ]
     },
     "metadata": {
      "needs_background": "light"
     },
     "output_type": "display_data"
    }
   ],
   "source": [
    "sns.displot(df['ratio_clean'], kind='kde')"
   ]
  },
  {
   "cell_type": "code",
   "execution_count": 17,
   "id": "e23d9a38",
   "metadata": {},
   "outputs": [
    {
     "data": {
      "text/plain": [
       "<seaborn.axisgrid.FacetGrid at 0x7fbe3cc2fe10>"
      ]
     },
     "execution_count": 17,
     "metadata": {},
     "output_type": "execute_result"
    },
    {
     "data": {
      "image/png": "[encoded data removed]",
      "text/plain": [
       "<Figure size 360x360 with 1 Axes>"
      ]
     },
     "metadata": {
      "needs_background": "light"
     },
     "output_type": "display_data"
    }
   ],
   "source": [
    "sns.displot(df['ratio_clean'])"
   ]
  },
  {
   "cell_type": "code",
   "execution_count": 18,
   "id": "9130f1c1",
   "metadata": {
    "scrolled": true
   },
   "outputs": [
    {
     "data": {
      "text/plain": [
       "<seaborn.axisgrid.FacetGrid at 0x7fbe3ca342e8>"
      ]
     },
     "execution_count": 18,
     "metadata": {},
     "output_type": "execute_result"
    },
    {
     "data": {
      "image/png": "[encoded data removed]",
      "text/plain": [
       "<Figure size 360x360 with 1 Axes>"
      ]
     },
     "metadata": {
      "needs_background": "light"
     },
     "output_type": "display_data"
    }
   ],
   "source": [
    "sns.displot(df['total_length'].dt.seconds/3600)"
   ]
  },
  {
   "cell_type": "code",
   "execution_count": 22,
   "id": "4e3a3c21",
   "metadata": {},
   "outputs": [
    {
     "data": {
      "text/plain": [
       "0.9310344827586207"
      ]
     },
     "execution_count": 22,
     "metadata": {},
     "output_type": "execute_result"
    }
   ],
   "source": [
    "# with good quality\n",
    "(df[df['ratio_clean'] > 0.8]).shape[0] / df.shape[0]"
   ]
  },
  {
   "cell_type": "code",
   "execution_count": 24,
   "id": "691fc93a",
   "metadata": {},
   "outputs": [
    {
     "data": {
      "text/plain": [
       "0.8608875184501293"
      ]
     },
     "execution_count": 24,
     "metadata": {},
     "output_type": "execute_result"
    }
   ],
   "source": [
    "# % for goog quality length\n",
    "df[df['ratio_clean'] > 0.9]['total_length'].dt.seconds.sum() / df['total_length'].dt.seconds.sum()"
   ]
  },
  {
   "cell_type": "code",
   "execution_count": 26,
   "id": "a43983af",
   "metadata": {},
   "outputs": [
    {
     "data": {
      "text/plain": [
       "Index(['ecg_qc_file_path', 'exam_id', 'patient_id', 'total_length',\n",
       "       'total_noise', 'total_clean', 'small_chunks', 'big_chunks',\n",
       "       'very_big_chunks', 'ratio_clean', 'ratio_small_chunks'],\n",
       "      dtype='object')"
      ]
     },
     "execution_count": 26,
     "metadata": {},
     "output_type": "execute_result"
    }
   ],
   "source": [
    "df.columns"
   ]
  },
  {
   "cell_type": "code",
   "execution_count": 64,
   "id": "bbe4669f",
   "metadata": {},
   "outputs": [
    {
     "data": {
      "text/plain": [
       "0.8530562975445641"
      ]
     },
     "execution_count": 64,
     "metadata": {},
     "output_type": "execute_result"
    }
   ],
   "source": [
    "# % for goog quality length\n",
    "df[df['very_big_chunks'] <= 0]['total_length'].dt.seconds.sum() / df['total_length'].dt.seconds.sum()"
   ]
  },
  {
   "cell_type": "code",
   "execution_count": 63,
   "id": "e331bad1",
   "metadata": {},
   "outputs": [
    {
     "data": {
      "text/plain": [
       "0.9630541871921182"
      ]
     },
     "execution_count": 63,
     "metadata": {},
     "output_type": "execute_result"
    }
   ],
   "source": [
    "(df[df['very_big_chunks'] <= 0]).shape[0] / df.shape[0]"
   ]
  },
  {
   "cell_type": "markdown",
   "id": "db47507b",
   "metadata": {},
   "source": [
    "## Taking only good quality segments"
   ]
  },
  {
   "cell_type": "code",
   "execution_count": 91,
   "id": "4ed8d61c",
   "metadata": {},
   "outputs": [
    {
     "data": {
      "text/html": [
       "<div>\n",
       "<style scoped>\n",
       "    .dataframe tbody tr th:only-of-type {\n",
       "        vertical-align: middle;\n",
       "    }\n",
       "\n",
       "    .dataframe tbody tr th {\n",
       "        vertical-align: top;\n",
       "    }\n",
       "\n",
       "    .dataframe thead th {\n",
       "        text-align: right;\n",
       "    }\n",
       "</style>\n",
       "<table border=\"1\" class=\"dataframe\">\n",
       "  <thead>\n",
       "    <tr style=\"text-align: right;\">\n",
       "      <th></th>\n",
       "      <th>ecg_qc_file_path</th>\n",
       "      <th>exam_id</th>\n",
       "      <th>patient_id</th>\n",
       "      <th>total_length</th>\n",
       "      <th>total_noise</th>\n",
       "      <th>total_clean</th>\n",
       "      <th>small_chunks</th>\n",
       "      <th>big_chunks</th>\n",
       "      <th>very_big_chunks</th>\n",
       "      <th>ratio_clean</th>\n",
       "      <th>ratio_small_chunks</th>\n",
       "    </tr>\n",
       "  </thead>\n",
       "  <tbody>\n",
       "    <tr>\n",
       "      <th>2</th>\n",
       "      <td>../output/res-comp-v0_6/PAT_22/qc_qrs_EEG_304_...</td>\n",
       "      <td>EEG_304</td>\n",
       "      <td>PAT_22</td>\n",
       "      <td>0 days 00:03:34</td>\n",
       "      <td>0 days 00:00:00</td>\n",
       "      <td>0 days 00:03:34</td>\n",
       "      <td>0.0</td>\n",
       "      <td>0.0</td>\n",
       "      <td>0.0</td>\n",
       "      <td>1.000000</td>\n",
       "      <td>0.000000</td>\n",
       "    </tr>\n",
       "    <tr>\n",
       "      <th>3</th>\n",
       "      <td>../output/res-comp-v0_6/PAT_22/qc_qrs_EEG_311_...</td>\n",
       "      <td>EEG_311</td>\n",
       "      <td>PAT_22</td>\n",
       "      <td>0 days 00:17:50</td>\n",
       "      <td>0 days 00:00:14</td>\n",
       "      <td>0 days 00:17:36</td>\n",
       "      <td>3.0</td>\n",
       "      <td>0.0</td>\n",
       "      <td>0.0</td>\n",
       "      <td>0.986916</td>\n",
       "      <td>0.011215</td>\n",
       "    </tr>\n",
       "    <tr>\n",
       "      <th>5</th>\n",
       "      <td>../output/res-comp-v0_6/PAT_22/qc_qrs_EEG_311_...</td>\n",
       "      <td>EEG_311</td>\n",
       "      <td>PAT_22</td>\n",
       "      <td>0 days 00:03:14</td>\n",
       "      <td>0 days 00:00:22</td>\n",
       "      <td>0 days 00:02:52</td>\n",
       "      <td>8.0</td>\n",
       "      <td>0.0</td>\n",
       "      <td>0.0</td>\n",
       "      <td>0.886598</td>\n",
       "      <td>0.164948</td>\n",
       "    </tr>\n",
       "    <tr>\n",
       "      <th>7</th>\n",
       "      <td>../output/res-comp-v0_6/PAT_22/qc_qrs_EEG_311_...</td>\n",
       "      <td>EEG_311</td>\n",
       "      <td>PAT_22</td>\n",
       "      <td>0 days 00:12:06</td>\n",
       "      <td>0 days 00:00:00</td>\n",
       "      <td>0 days 00:12:06</td>\n",
       "      <td>0.0</td>\n",
       "      <td>0.0</td>\n",
       "      <td>0.0</td>\n",
       "      <td>1.000000</td>\n",
       "      <td>0.000000</td>\n",
       "    </tr>\n",
       "    <tr>\n",
       "      <th>8</th>\n",
       "      <td>../output/res-comp-v0_6/PAT_22/qc_qrs_EEG_304_...</td>\n",
       "      <td>EEG_304</td>\n",
       "      <td>PAT_22</td>\n",
       "      <td>0 days 00:03:06</td>\n",
       "      <td>0 days 00:00:00</td>\n",
       "      <td>0 days 00:03:06</td>\n",
       "      <td>0.0</td>\n",
       "      <td>0.0</td>\n",
       "      <td>0.0</td>\n",
       "      <td>1.000000</td>\n",
       "      <td>0.000000</td>\n",
       "    </tr>\n",
       "  </tbody>\n",
       "</table>\n",
       "</div>"
      ],
      "text/plain": [
       "                                    ecg_qc_file_path  exam_id patient_id  \\\n",
       "2  ../output/res-comp-v0_6/PAT_22/qc_qrs_EEG_304_...  EEG_304     PAT_22   \n",
       "3  ../output/res-comp-v0_6/PAT_22/qc_qrs_EEG_311_...  EEG_311     PAT_22   \n",
       "5  ../output/res-comp-v0_6/PAT_22/qc_qrs_EEG_311_...  EEG_311     PAT_22   \n",
       "7  ../output/res-comp-v0_6/PAT_22/qc_qrs_EEG_311_...  EEG_311     PAT_22   \n",
       "8  ../output/res-comp-v0_6/PAT_22/qc_qrs_EEG_304_...  EEG_304     PAT_22   \n",
       "\n",
       "     total_length     total_noise     total_clean  small_chunks  big_chunks  \\\n",
       "2 0 days 00:03:34 0 days 00:00:00 0 days 00:03:34           0.0         0.0   \n",
       "3 0 days 00:17:50 0 days 00:00:14 0 days 00:17:36           3.0         0.0   \n",
       "5 0 days 00:03:14 0 days 00:00:22 0 days 00:02:52           8.0         0.0   \n",
       "7 0 days 00:12:06 0 days 00:00:00 0 days 00:12:06           0.0         0.0   \n",
       "8 0 days 00:03:06 0 days 00:00:00 0 days 00:03:06           0.0         0.0   \n",
       "\n",
       "   very_big_chunks  ratio_clean  ratio_small_chunks  \n",
       "2              0.0     1.000000            0.000000  \n",
       "3              0.0     0.986916            0.011215  \n",
       "5              0.0     0.886598            0.164948  \n",
       "7              0.0     1.000000            0.000000  \n",
       "8              0.0     1.000000            0.000000  "
      ]
     },
     "execution_count": 91,
     "metadata": {},
     "output_type": "execute_result"
    }
   ],
   "source": [
    "df_clean = df[df['very_big_chunks'] == 0]\n",
    "df_clean.head()"
   ]
  },
  {
   "cell_type": "code",
   "execution_count": 92,
   "id": "2ad2be88",
   "metadata": {},
   "outputs": [
    {
     "data": {
      "text/plain": [
       "(328, 11)"
      ]
     },
     "execution_count": 92,
     "metadata": {},
     "output_type": "execute_result"
    }
   ],
   "source": [
    "df_clean.shape"
   ]
  },
  {
   "cell_type": "code",
   "execution_count": null,
   "id": "e5503123",
   "metadata": {},
   "outputs": [
    {
     "name": "stderr",
     "output_type": "stream",
     "text": [
      "/home/aura-alexis/github/seizure_detection_pipeline/env/lib64/python3.6/site-packages/ipykernel_launcher.py:1: SettingWithCopyWarning: \n",
      "A value is trying to be set on a copy of a slice from a DataFrame.\n",
      "Try using .loc[row_indexer,col_indexer] = value instead\n",
      "\n",
      "See the caveats in the documentation: https://pandas.pydata.org/pandas-docs/stable/user_guide/indexing.html#returning-a-view-versus-a-copy\n",
      "  \"\"\"Entry point for launching an IPython kernel.\n"
     ]
    },
    {
     "data": {
      "text/html": [
       "<div>\n",
       "<style scoped>\n",
       "    .dataframe tbody tr th:only-of-type {\n",
       "        vertical-align: middle;\n",
       "    }\n",
       "\n",
       "    .dataframe tbody tr th {\n",
       "        vertical-align: top;\n",
       "    }\n",
       "\n",
       "    .dataframe thead th {\n",
       "        text-align: right;\n",
       "    }\n",
       "</style>\n",
       "<table border=\"1\" class=\"dataframe\">\n",
       "  <thead>\n",
       "    <tr style=\"text-align: right;\">\n",
       "      <th></th>\n",
       "      <th>ecg_qc_file_path</th>\n",
       "      <th>exam_id</th>\n",
       "      <th>patient_id</th>\n",
       "      <th>total_length</th>\n",
       "      <th>total_noise</th>\n",
       "      <th>total_clean</th>\n",
       "      <th>small_chunks</th>\n",
       "      <th>ratio_clean</th>\n",
       "      <th>ratio_small_chunks</th>\n",
       "      <th>cons</th>\n",
       "    </tr>\n",
       "  </thead>\n",
       "  <tbody>\n",
       "    <tr>\n",
       "      <th>1</th>\n",
       "      <td>../output/res-comp-v0_6/PAT_12/qc_qrs_EEG_297_...</td>\n",
       "      <td>EEG_297</td>\n",
       "      <td>PAT_12</td>\n",
       "      <td>0 days 00:05:42</td>\n",
       "      <td>0 days 00:00:04</td>\n",
       "      <td>0 days 00:05:38</td>\n",
       "      <td>2.0</td>\n",
       "      <td>0.988304</td>\n",
       "      <td>0.023392</td>\n",
       "      <td>../output/cons-v0_6/PAT_12/cons_PAT_12_Annotat...</td>\n",
       "    </tr>\n",
       "    <tr>\n",
       "      <th>2</th>\n",
       "      <td>../output/res-comp-v0_6/PAT_12/qc_qrs_EEG_299_...</td>\n",
       "      <td>EEG_299</td>\n",
       "      <td>PAT_12</td>\n",
       "      <td>0 days 00:02:08</td>\n",
       "      <td>0 days 00:00:00</td>\n",
       "      <td>0 days 00:02:08</td>\n",
       "      <td>0.0</td>\n",
       "      <td>1.000000</td>\n",
       "      <td>0.000000</td>\n",
       "      <td>../output/cons-v0_6/PAT_12/cons_PAT_12_Annotat...</td>\n",
       "    </tr>\n",
       "    <tr>\n",
       "      <th>3</th>\n",
       "      <td>../output/res-comp-v0_6/PAT_12/qc_qrs_EEG_300_...</td>\n",
       "      <td>EEG_300</td>\n",
       "      <td>PAT_12</td>\n",
       "      <td>0 days 00:33:30</td>\n",
       "      <td>0 days 00:00:32</td>\n",
       "      <td>0 days 00:32:58</td>\n",
       "      <td>8.0</td>\n",
       "      <td>0.984080</td>\n",
       "      <td>0.015920</td>\n",
       "      <td>../output/cons-v0_6/PAT_12/cons_PAT_12_Annotat...</td>\n",
       "    </tr>\n",
       "    <tr>\n",
       "      <th>10</th>\n",
       "      <td>../output/res-comp-v0_6/PAT_17/qc_qrs_EEG_259_...</td>\n",
       "      <td>EEG_259</td>\n",
       "      <td>PAT_17</td>\n",
       "      <td>0 days 00:00:22</td>\n",
       "      <td>0 days 00:00:00</td>\n",
       "      <td>0 days 00:00:22</td>\n",
       "      <td>0.0</td>\n",
       "      <td>1.000000</td>\n",
       "      <td>0.000000</td>\n",
       "      <td>../output/cons-v0_6/PAT_17/cons_PAT_17_Annotat...</td>\n",
       "    </tr>\n",
       "    <tr>\n",
       "      <th>11</th>\n",
       "      <td>../output/res-comp-v0_6/PAT_17/qc_qrs_EEG_259_...</td>\n",
       "      <td>EEG_259</td>\n",
       "      <td>PAT_17</td>\n",
       "      <td>0 days 00:00:18</td>\n",
       "      <td>0 days 00:00:00</td>\n",
       "      <td>0 days 00:00:18</td>\n",
       "      <td>0.0</td>\n",
       "      <td>1.000000</td>\n",
       "      <td>0.000000</td>\n",
       "      <td>../output/cons-v0_6/PAT_17/cons_PAT_17_Annotat...</td>\n",
       "    </tr>\n",
       "  </tbody>\n",
       "</table>\n",
       "</div>"
      ],
      "text/plain": [
       "                                     ecg_qc_file_path  exam_id patient_id  \\\n",
       "1   ../output/res-comp-v0_6/PAT_12/qc_qrs_EEG_297_...  EEG_297     PAT_12   \n",
       "2   ../output/res-comp-v0_6/PAT_12/qc_qrs_EEG_299_...  EEG_299     PAT_12   \n",
       "3   ../output/res-comp-v0_6/PAT_12/qc_qrs_EEG_300_...  EEG_300     PAT_12   \n",
       "10  ../output/res-comp-v0_6/PAT_17/qc_qrs_EEG_259_...  EEG_259     PAT_17   \n",
       "11  ../output/res-comp-v0_6/PAT_17/qc_qrs_EEG_259_...  EEG_259     PAT_17   \n",
       "\n",
       "      total_length     total_noise     total_clean  small_chunks  ratio_clean  \\\n",
       "1  0 days 00:05:42 0 days 00:00:04 0 days 00:05:38           2.0     0.988304   \n",
       "2  0 days 00:02:08 0 days 00:00:00 0 days 00:02:08           0.0     1.000000   \n",
       "3  0 days 00:33:30 0 days 00:00:32 0 days 00:32:58           8.0     0.984080   \n",
       "10 0 days 00:00:22 0 days 00:00:00 0 days 00:00:22           0.0     1.000000   \n",
       "11 0 days 00:00:18 0 days 00:00:00 0 days 00:00:18           0.0     1.000000   \n",
       "\n",
       "    ratio_small_chunks                                               cons  \n",
       "1             0.023392  ../output/cons-v0_6/PAT_12/cons_PAT_12_Annotat...  \n",
       "2             0.000000  ../output/cons-v0_6/PAT_12/cons_PAT_12_Annotat...  \n",
       "3             0.015920  ../output/cons-v0_6/PAT_12/cons_PAT_12_Annotat...  \n",
       "10            0.000000  ../output/cons-v0_6/PAT_17/cons_PAT_17_Annotat...  \n",
       "11            0.000000  ../output/cons-v0_6/PAT_17/cons_PAT_17_Annotat...  "
      ]
     },
     "execution_count": 30,
     "metadata": {},
     "output_type": "execute_result"
    }
   ],
   "source": [
    "df_clean['cons'] = df_clean['ecg_qc_file_path'].apply(lambda x: x.replace('res-comp-v0_6', 'cons-v0_6').replace('qc_qrs', 'cons').replace('tse_bi', 'csv').replace('cons_', 'cons_{}_Annotations_'.format(re.search(r'PAT_[0-9]*', x).group(0))))\n",
    "df_clean.head()"
   ]
  },
  {
   "cell_type": "code",
   "execution_count": null,
   "id": "5aad6a6c",
   "metadata": {},
   "outputs": [],
   "source": [
    "import shutil\n",
    "\n",
    "for src in df_clean['cons'].values:\n",
    "    dst = src.replace('cons-v0_6', 'cons-v0_6_clean_small_chunks')\n",
    "    os.makedirs(os.path.dirname(dst), exist_ok=True)\n",
    "    shutil.copyfile(src, dst)"
   ]
  },
  {
   "cell_type": "code",
   "execution_count": null,
   "id": "40400f08",
   "metadata": {},
   "outputs": [],
   "source": []
  }
 ],
 "metadata": {
  "interpreter": {
   "hash": "ce8ad54ff0c21d76b9d2b2c70378af31077ad0766af937406802e3e7962ef6ad"
  },
  "kernelspec": {
   "display_name": "Python 3.6.8 ('env': venv)",
   "language": "python",
   "name": "python3"
  },
  "language_info": {
   "codemirror_mode": {
    "name": "ipython",
    "version": 3
   },
   "file_extension": ".py",
   "mimetype": "text/x-python",
   "name": "python",
   "nbconvert_exporter": "python",
   "pygments_lexer": "ipython3",
   "version": "3.6.8"
  }
 },
 "nbformat": 4,
 "nbformat_minor": 5
}
