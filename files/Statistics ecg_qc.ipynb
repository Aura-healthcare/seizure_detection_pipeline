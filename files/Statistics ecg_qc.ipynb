{
 "cells": [
  {
   "cell_type": "code",
   "execution_count": 3,
   "id": "cc0f2647",
   "metadata": {},
   "outputs": [],
   "source": [
    "import sys\n",
    "sys.path.append(\"..\")\n",
    "\n",
    "from src.usecase.consolidate_feats_and_annot import read_tse_bi\n",
    "from src.usecase.fetch_database import create_df_from_file_pattern\n",
    "import pandas as pd\n",
    "import os\n",
    "import seaborn as sns"
   ]
  },
  {
   "cell_type": "code",
   "execution_count": 4,
   "id": "4598ee5d",
   "metadata": {},
   "outputs": [],
   "source": [
    "DATASET_PATIENT_PATTERN = r\"[P][A][T][_][0-9]*\"\n",
    "DATASET_EXAM_PATTERN = r\"[E][E][G][_][0-9]*\"\n",
    "ANNOTATION_FILE_PATTERN = \"*.tse_bi\""
   ]
  },
  {
   "cell_type": "code",
   "execution_count": 5,
   "id": "5157511e",
   "metadata": {},
   "outputs": [
    {
     "name": "stdout",
     "output_type": "stream",
     "text": [
      "                                      ecg_qc_file_path  exam_id patient_id\n",
      "0    ../output/ecg_qc-v0_6/PAT_12/ecg_qc_EEG_156_s1...  EEG_156     PAT_12\n",
      "1    ../output/ecg_qc-v0_6/PAT_12/ecg_qc_EEG_297_s1...  EEG_297     PAT_12\n",
      "2    ../output/ecg_qc-v0_6/PAT_12/ecg_qc_EEG_299_s1...  EEG_299     PAT_12\n",
      "3    ../output/ecg_qc-v0_6/PAT_12/ecg_qc_EEG_300_s1...  EEG_300     PAT_12\n",
      "4    ../output/ecg_qc-v0_6/PAT_17/ecg_qc_EEG_253_s1...  EEG_253     PAT_17\n",
      "..                                                 ...      ...        ...\n",
      "402  ../output/ecg_qc-v0_6/PAT_9/ecg_qc_EEG_103_s5....  EEG_103      PAT_9\n",
      "403  ../output/ecg_qc-v0_6/PAT_9/ecg_qc_EEG_103_s6....  EEG_103      PAT_9\n",
      "404  ../output/ecg_qc-v0_6/PAT_9/ecg_qc_EEG_103_s7....  EEG_103      PAT_9\n",
      "405  ../output/ecg_qc-v0_6/PAT_9/ecg_qc_EEG_103_s8....  EEG_103      PAT_9\n",
      "406  ../output/ecg_qc-v0_6/PAT_9/ecg_qc_EEG_103_s9....  EEG_103      PAT_9\n",
      "\n",
      "[407 rows x 3 columns]\n"
     ]
    }
   ],
   "source": [
    "df = create_df_from_file_pattern(\n",
    "    data_folder_path='../output/ecg_qc-v0_6',\n",
    "    file_pattern=ANNOTATION_FILE_PATTERN,\n",
    "    file_label='ecg_qc',\n",
    "    patient_pattern=DATASET_PATIENT_PATTERN,\n",
    "    exam_pattern=DATASET_EXAM_PATTERN)\n",
    "print(df)"
   ]
  },
  {
   "cell_type": "code",
   "execution_count": 6,
   "id": "a343c7c5",
   "metadata": {},
   "outputs": [],
   "source": [
    "def compute_stats_files(tse_bi_file):\n",
    "    \n",
    "    df = read_tse_bi(tse_bi_file)\n",
    "    df['length'] = df['end'] - df['start']\n",
    "    total_length = df['length'].sum()\n",
    "    total_noise = df[df['annotation'] == 'noisy']['length'].sum()\n",
    "    total_clean = df[df['annotation'] == 'clean']['length'].sum()\n",
    "    ratio_clean = total_clean / (total_noise + total_clean) \n",
    "    small_chunks = df[(df['annotation'] == 'noisy') & (df['length'].dt.seconds <= 4)].shape[0]\n",
    "    return total_length, total_noise, total_clean, ratio_clean, small_chunks"
   ]
  },
  {
   "cell_type": "code",
   "execution_count": 7,
   "id": "f4f74615",
   "metadata": {},
   "outputs": [
    {
     "data": {
      "text/html": [
       "<div>\n",
       "<style scoped>\n",
       "    .dataframe tbody tr th:only-of-type {\n",
       "        vertical-align: middle;\n",
       "    }\n",
       "\n",
       "    .dataframe tbody tr th {\n",
       "        vertical-align: top;\n",
       "    }\n",
       "\n",
       "    .dataframe thead th {\n",
       "        text-align: right;\n",
       "    }\n",
       "</style>\n",
       "<table border=\"1\" class=\"dataframe\">\n",
       "  <thead>\n",
       "    <tr style=\"text-align: right;\">\n",
       "      <th></th>\n",
       "      <th>ecg_qc_file_path</th>\n",
       "      <th>exam_id</th>\n",
       "      <th>patient_id</th>\n",
       "      <th>total_length</th>\n",
       "      <th>total_noise</th>\n",
       "      <th>total_clean</th>\n",
       "      <th>ratio_clean</th>\n",
       "      <th>small_chunks</th>\n",
       "      <th>ratio_small_chunks</th>\n",
       "    </tr>\n",
       "  </thead>\n",
       "  <tbody>\n",
       "    <tr>\n",
       "      <th>0</th>\n",
       "      <td>../output/ecg_qc-v0_6/PAT_12/ecg_qc_EEG_156_s1...</td>\n",
       "      <td>EEG_156</td>\n",
       "      <td>PAT_12</td>\n",
       "      <td>0 days 00:19:00</td>\n",
       "      <td>0 days 00:00:54</td>\n",
       "      <td>0 days 00:18:06</td>\n",
       "      <td>0.952632</td>\n",
       "      <td>10.0</td>\n",
       "      <td>0.035088</td>\n",
       "    </tr>\n",
       "    <tr>\n",
       "      <th>1</th>\n",
       "      <td>../output/ecg_qc-v0_6/PAT_12/ecg_qc_EEG_297_s1...</td>\n",
       "      <td>EEG_297</td>\n",
       "      <td>PAT_12</td>\n",
       "      <td>0 days 00:05:44</td>\n",
       "      <td>0 days 00:00:18</td>\n",
       "      <td>0 days 00:05:26</td>\n",
       "      <td>0.947674</td>\n",
       "      <td>5.0</td>\n",
       "      <td>0.058140</td>\n",
       "    </tr>\n",
       "    <tr>\n",
       "      <th>2</th>\n",
       "      <td>../output/ecg_qc-v0_6/PAT_12/ecg_qc_EEG_299_s1...</td>\n",
       "      <td>EEG_299</td>\n",
       "      <td>PAT_12</td>\n",
       "      <td>0 days 00:02:10</td>\n",
       "      <td>0 days 00:02:08</td>\n",
       "      <td>0 days 00:00:02</td>\n",
       "      <td>0.015385</td>\n",
       "      <td>0.0</td>\n",
       "      <td>0.000000</td>\n",
       "    </tr>\n",
       "    <tr>\n",
       "      <th>3</th>\n",
       "      <td>../output/ecg_qc-v0_6/PAT_12/ecg_qc_EEG_300_s1...</td>\n",
       "      <td>EEG_300</td>\n",
       "      <td>PAT_12</td>\n",
       "      <td>0 days 00:33:32</td>\n",
       "      <td>0 days 00:33:28</td>\n",
       "      <td>0 days 00:00:04</td>\n",
       "      <td>0.001988</td>\n",
       "      <td>0.0</td>\n",
       "      <td>0.000000</td>\n",
       "    </tr>\n",
       "    <tr>\n",
       "      <th>4</th>\n",
       "      <td>../output/ecg_qc-v0_6/PAT_17/ecg_qc_EEG_253_s1...</td>\n",
       "      <td>EEG_253</td>\n",
       "      <td>PAT_17</td>\n",
       "      <td>0 days 02:00:00</td>\n",
       "      <td>0 days 01:56:14</td>\n",
       "      <td>0 days 00:03:46</td>\n",
       "      <td>0.031389</td>\n",
       "      <td>21.0</td>\n",
       "      <td>0.011667</td>\n",
       "    </tr>\n",
       "  </tbody>\n",
       "</table>\n",
       "</div>"
      ],
      "text/plain": [
       "                                    ecg_qc_file_path  exam_id patient_id  \\\n",
       "0  ../output/ecg_qc-v0_6/PAT_12/ecg_qc_EEG_156_s1...  EEG_156     PAT_12   \n",
       "1  ../output/ecg_qc-v0_6/PAT_12/ecg_qc_EEG_297_s1...  EEG_297     PAT_12   \n",
       "2  ../output/ecg_qc-v0_6/PAT_12/ecg_qc_EEG_299_s1...  EEG_299     PAT_12   \n",
       "3  ../output/ecg_qc-v0_6/PAT_12/ecg_qc_EEG_300_s1...  EEG_300     PAT_12   \n",
       "4  ../output/ecg_qc-v0_6/PAT_17/ecg_qc_EEG_253_s1...  EEG_253     PAT_17   \n",
       "\n",
       "     total_length     total_noise     total_clean  ratio_clean  small_chunks  \\\n",
       "0 0 days 00:19:00 0 days 00:00:54 0 days 00:18:06     0.952632          10.0   \n",
       "1 0 days 00:05:44 0 days 00:00:18 0 days 00:05:26     0.947674           5.0   \n",
       "2 0 days 00:02:10 0 days 00:02:08 0 days 00:00:02     0.015385           0.0   \n",
       "3 0 days 00:33:32 0 days 00:33:28 0 days 00:00:04     0.001988           0.0   \n",
       "4 0 days 02:00:00 0 days 01:56:14 0 days 00:03:46     0.031389          21.0   \n",
       "\n",
       "   ratio_small_chunks  \n",
       "0            0.035088  \n",
       "1            0.058140  \n",
       "2            0.000000  \n",
       "3            0.000000  \n",
       "4            0.011667  "
      ]
     },
     "execution_count": 7,
     "metadata": {},
     "output_type": "execute_result"
    }
   ],
   "source": [
    "for i in df.index:\n",
    "    total_length, total_noise, total_clean, ratio_clean, small_chunks = compute_stats_files(df.loc[i, 'ecg_qc_file_path'])\n",
    "    df.loc[i, 'total_length'] = total_length\n",
    "    df.loc[i, 'total_noise'] = total_noise\n",
    "    df.loc[i, 'total_clean'] = total_clean\n",
    "    df.loc[i, 'ratio_clean'] = ratio_clean\n",
    "    df.loc[i, 'small_chunks'] = small_chunks\n",
    "    \n",
    "df[['total_length', 'total_noise', 'total_clean']].fillna(pd.Timedelta(seconds=0))\n",
    "df[['ratio_clean', 'small_chunks']].fillna(0)\n",
    "df['ratio_small_chunks'] = df['small_chunks']*4 / df['total_length'].dt.seconds\n",
    "df.head()"
   ]
  },
  {
   "cell_type": "code",
   "execution_count": 8,
   "id": "2ab73807",
   "metadata": {},
   "outputs": [
    {
     "data": {
      "text/html": [
       "<div>\n",
       "<style scoped>\n",
       "    .dataframe tbody tr th:only-of-type {\n",
       "        vertical-align: middle;\n",
       "    }\n",
       "\n",
       "    .dataframe tbody tr th {\n",
       "        vertical-align: top;\n",
       "    }\n",
       "\n",
       "    .dataframe thead th {\n",
       "        text-align: right;\n",
       "    }\n",
       "</style>\n",
       "<table border=\"1\" class=\"dataframe\">\n",
       "  <thead>\n",
       "    <tr style=\"text-align: right;\">\n",
       "      <th></th>\n",
       "      <th>ecg_qc_file_path</th>\n",
       "      <th>exam_id</th>\n",
       "      <th>patient_id</th>\n",
       "      <th>total_length</th>\n",
       "      <th>total_noise</th>\n",
       "      <th>total_clean</th>\n",
       "      <th>ratio_clean</th>\n",
       "      <th>small_chunks</th>\n",
       "      <th>ratio_small_chunks</th>\n",
       "    </tr>\n",
       "  </thead>\n",
       "  <tbody>\n",
       "    <tr>\n",
       "      <th>397</th>\n",
       "      <td>../output/ecg_qc-v0_6/PAT_9/ecg_qc_EEG_103_s28...</td>\n",
       "      <td>EEG_103</td>\n",
       "      <td>PAT_9</td>\n",
       "      <td>0 days 00:51:46</td>\n",
       "      <td>0 days 00:00:06</td>\n",
       "      <td>0 days 00:51:40</td>\n",
       "      <td>0.998068</td>\n",
       "      <td>2.0</td>\n",
       "      <td>0.002576</td>\n",
       "    </tr>\n",
       "    <tr>\n",
       "      <th>381</th>\n",
       "      <td>../output/ecg_qc-v0_6/PAT_9/ecg_qc_EEG_103_s13...</td>\n",
       "      <td>EEG_103</td>\n",
       "      <td>PAT_9</td>\n",
       "      <td>0 days 00:04:00</td>\n",
       "      <td>0 days 00:00:02</td>\n",
       "      <td>0 days 00:03:58</td>\n",
       "      <td>0.991667</td>\n",
       "      <td>1.0</td>\n",
       "      <td>0.016667</td>\n",
       "    </tr>\n",
       "    <tr>\n",
       "      <th>391</th>\n",
       "      <td>../output/ecg_qc-v0_6/PAT_9/ecg_qc_EEG_103_s22...</td>\n",
       "      <td>EEG_103</td>\n",
       "      <td>PAT_9</td>\n",
       "      <td>0 days 00:07:18</td>\n",
       "      <td>0 days 00:00:04</td>\n",
       "      <td>0 days 00:07:14</td>\n",
       "      <td>0.990868</td>\n",
       "      <td>2.0</td>\n",
       "      <td>0.018265</td>\n",
       "    </tr>\n",
       "    <tr>\n",
       "      <th>404</th>\n",
       "      <td>../output/ecg_qc-v0_6/PAT_9/ecg_qc_EEG_103_s7....</td>\n",
       "      <td>EEG_103</td>\n",
       "      <td>PAT_9</td>\n",
       "      <td>0 days 00:03:36</td>\n",
       "      <td>0 days 00:00:02</td>\n",
       "      <td>0 days 00:03:34</td>\n",
       "      <td>0.990741</td>\n",
       "      <td>1.0</td>\n",
       "      <td>0.018519</td>\n",
       "    </tr>\n",
       "    <tr>\n",
       "      <th>383</th>\n",
       "      <td>../output/ecg_qc-v0_6/PAT_9/ecg_qc_EEG_103_s15...</td>\n",
       "      <td>EEG_103</td>\n",
       "      <td>PAT_9</td>\n",
       "      <td>0 days 00:03:18</td>\n",
       "      <td>0 days 00:00:02</td>\n",
       "      <td>0 days 00:03:16</td>\n",
       "      <td>0.989899</td>\n",
       "      <td>1.0</td>\n",
       "      <td>0.020202</td>\n",
       "    </tr>\n",
       "    <tr>\n",
       "      <th>...</th>\n",
       "      <td>...</td>\n",
       "      <td>...</td>\n",
       "      <td>...</td>\n",
       "      <td>...</td>\n",
       "      <td>...</td>\n",
       "      <td>...</td>\n",
       "      <td>...</td>\n",
       "      <td>...</td>\n",
       "      <td>...</td>\n",
       "    </tr>\n",
       "    <tr>\n",
       "      <th>394</th>\n",
       "      <td>../output/ecg_qc-v0_6/PAT_9/ecg_qc_EEG_103_s25...</td>\n",
       "      <td>EEG_103</td>\n",
       "      <td>PAT_9</td>\n",
       "      <td>0 days 00:00:44</td>\n",
       "      <td>NaT</td>\n",
       "      <td>0 days 00:00:44</td>\n",
       "      <td>NaN</td>\n",
       "      <td>0.0</td>\n",
       "      <td>0.000000</td>\n",
       "    </tr>\n",
       "    <tr>\n",
       "      <th>400</th>\n",
       "      <td>../output/ecg_qc-v0_6/PAT_9/ecg_qc_EEG_103_s3....</td>\n",
       "      <td>EEG_103</td>\n",
       "      <td>PAT_9</td>\n",
       "      <td>0 days 00:04:58</td>\n",
       "      <td>NaT</td>\n",
       "      <td>0 days 00:04:58</td>\n",
       "      <td>NaN</td>\n",
       "      <td>0.0</td>\n",
       "      <td>0.000000</td>\n",
       "    </tr>\n",
       "    <tr>\n",
       "      <th>401</th>\n",
       "      <td>../output/ecg_qc-v0_6/PAT_9/ecg_qc_EEG_103_s4....</td>\n",
       "      <td>EEG_103</td>\n",
       "      <td>PAT_9</td>\n",
       "      <td>0 days 00:00:32</td>\n",
       "      <td>NaT</td>\n",
       "      <td>0 days 00:00:32</td>\n",
       "      <td>NaN</td>\n",
       "      <td>0.0</td>\n",
       "      <td>0.000000</td>\n",
       "    </tr>\n",
       "    <tr>\n",
       "      <th>402</th>\n",
       "      <td>../output/ecg_qc-v0_6/PAT_9/ecg_qc_EEG_103_s5....</td>\n",
       "      <td>EEG_103</td>\n",
       "      <td>PAT_9</td>\n",
       "      <td>0 days 00:03:34</td>\n",
       "      <td>NaT</td>\n",
       "      <td>0 days 00:03:34</td>\n",
       "      <td>NaN</td>\n",
       "      <td>0.0</td>\n",
       "      <td>0.000000</td>\n",
       "    </tr>\n",
       "    <tr>\n",
       "      <th>403</th>\n",
       "      <td>../output/ecg_qc-v0_6/PAT_9/ecg_qc_EEG_103_s6....</td>\n",
       "      <td>EEG_103</td>\n",
       "      <td>PAT_9</td>\n",
       "      <td>0 days 00:00:58</td>\n",
       "      <td>NaT</td>\n",
       "      <td>0 days 00:00:58</td>\n",
       "      <td>NaN</td>\n",
       "      <td>0.0</td>\n",
       "      <td>0.000000</td>\n",
       "    </tr>\n",
       "  </tbody>\n",
       "</table>\n",
       "<p>407 rows × 9 columns</p>\n",
       "</div>"
      ],
      "text/plain": [
       "                                      ecg_qc_file_path  exam_id patient_id  \\\n",
       "397  ../output/ecg_qc-v0_6/PAT_9/ecg_qc_EEG_103_s28...  EEG_103      PAT_9   \n",
       "381  ../output/ecg_qc-v0_6/PAT_9/ecg_qc_EEG_103_s13...  EEG_103      PAT_9   \n",
       "391  ../output/ecg_qc-v0_6/PAT_9/ecg_qc_EEG_103_s22...  EEG_103      PAT_9   \n",
       "404  ../output/ecg_qc-v0_6/PAT_9/ecg_qc_EEG_103_s7....  EEG_103      PAT_9   \n",
       "383  ../output/ecg_qc-v0_6/PAT_9/ecg_qc_EEG_103_s15...  EEG_103      PAT_9   \n",
       "..                                                 ...      ...        ...   \n",
       "394  ../output/ecg_qc-v0_6/PAT_9/ecg_qc_EEG_103_s25...  EEG_103      PAT_9   \n",
       "400  ../output/ecg_qc-v0_6/PAT_9/ecg_qc_EEG_103_s3....  EEG_103      PAT_9   \n",
       "401  ../output/ecg_qc-v0_6/PAT_9/ecg_qc_EEG_103_s4....  EEG_103      PAT_9   \n",
       "402  ../output/ecg_qc-v0_6/PAT_9/ecg_qc_EEG_103_s5....  EEG_103      PAT_9   \n",
       "403  ../output/ecg_qc-v0_6/PAT_9/ecg_qc_EEG_103_s6....  EEG_103      PAT_9   \n",
       "\n",
       "       total_length     total_noise     total_clean  ratio_clean  \\\n",
       "397 0 days 00:51:46 0 days 00:00:06 0 days 00:51:40     0.998068   \n",
       "381 0 days 00:04:00 0 days 00:00:02 0 days 00:03:58     0.991667   \n",
       "391 0 days 00:07:18 0 days 00:00:04 0 days 00:07:14     0.990868   \n",
       "404 0 days 00:03:36 0 days 00:00:02 0 days 00:03:34     0.990741   \n",
       "383 0 days 00:03:18 0 days 00:00:02 0 days 00:03:16     0.989899   \n",
       "..              ...             ...             ...          ...   \n",
       "394 0 days 00:00:44             NaT 0 days 00:00:44          NaN   \n",
       "400 0 days 00:04:58             NaT 0 days 00:04:58          NaN   \n",
       "401 0 days 00:00:32             NaT 0 days 00:00:32          NaN   \n",
       "402 0 days 00:03:34             NaT 0 days 00:03:34          NaN   \n",
       "403 0 days 00:00:58             NaT 0 days 00:00:58          NaN   \n",
       "\n",
       "     small_chunks  ratio_small_chunks  \n",
       "397           2.0            0.002576  \n",
       "381           1.0            0.016667  \n",
       "391           2.0            0.018265  \n",
       "404           1.0            0.018519  \n",
       "383           1.0            0.020202  \n",
       "..            ...                 ...  \n",
       "394           0.0            0.000000  \n",
       "400           0.0            0.000000  \n",
       "401           0.0            0.000000  \n",
       "402           0.0            0.000000  \n",
       "403           0.0            0.000000  \n",
       "\n",
       "[407 rows x 9 columns]"
      ]
     },
     "execution_count": 8,
     "metadata": {},
     "output_type": "execute_result"
    }
   ],
   "source": [
    "# Top noisy\n",
    "\n",
    "df.sort_values('ratio_clean', ascending=False)"
   ]
  },
  {
   "cell_type": "code",
   "execution_count": 9,
   "id": "fedff484",
   "metadata": {},
   "outputs": [
    {
     "data": {
      "text/html": [
       "<div>\n",
       "<style scoped>\n",
       "    .dataframe tbody tr th:only-of-type {\n",
       "        vertical-align: middle;\n",
       "    }\n",
       "\n",
       "    .dataframe tbody tr th {\n",
       "        vertical-align: top;\n",
       "    }\n",
       "\n",
       "    .dataframe thead th {\n",
       "        text-align: right;\n",
       "    }\n",
       "</style>\n",
       "<table border=\"1\" class=\"dataframe\">\n",
       "  <thead>\n",
       "    <tr style=\"text-align: right;\">\n",
       "      <th></th>\n",
       "      <th>ecg_qc_file_path</th>\n",
       "      <th>exam_id</th>\n",
       "      <th>patient_id</th>\n",
       "      <th>total_length</th>\n",
       "      <th>total_noise</th>\n",
       "      <th>total_clean</th>\n",
       "      <th>ratio_clean</th>\n",
       "      <th>small_chunks</th>\n",
       "      <th>ratio_small_chunks</th>\n",
       "    </tr>\n",
       "  </thead>\n",
       "  <tbody>\n",
       "    <tr>\n",
       "      <th>242</th>\n",
       "      <td>../output/ecg_qc-v0_6/PAT_52/ecg_qc_EEG_714_s6...</td>\n",
       "      <td>EEG_714</td>\n",
       "      <td>PAT_52</td>\n",
       "      <td>0 days 05:27:00</td>\n",
       "      <td>0 days 05:26:44</td>\n",
       "      <td>0 days 00:00:16</td>\n",
       "      <td>0.000815</td>\n",
       "      <td>1.0</td>\n",
       "      <td>0.000204</td>\n",
       "    </tr>\n",
       "    <tr>\n",
       "      <th>335</th>\n",
       "      <td>../output/ecg_qc-v0_6/PAT_6/ecg_qc_EEG_35_s1.t...</td>\n",
       "      <td>EEG_35</td>\n",
       "      <td>PAT_6</td>\n",
       "      <td>0 days 00:32:02</td>\n",
       "      <td>0 days 00:32:00</td>\n",
       "      <td>0 days 00:00:02</td>\n",
       "      <td>0.001041</td>\n",
       "      <td>0.0</td>\n",
       "      <td>0.000000</td>\n",
       "    </tr>\n",
       "    <tr>\n",
       "      <th>263</th>\n",
       "      <td>../output/ecg_qc-v0_6/PAT_52/ecg_qc_EEG_717_s1...</td>\n",
       "      <td>EEG_717</td>\n",
       "      <td>PAT_52</td>\n",
       "      <td>0 days 00:24:40</td>\n",
       "      <td>0 days 00:24:38</td>\n",
       "      <td>0 days 00:00:02</td>\n",
       "      <td>0.001351</td>\n",
       "      <td>0.0</td>\n",
       "      <td>0.000000</td>\n",
       "    </tr>\n",
       "    <tr>\n",
       "      <th>286</th>\n",
       "      <td>../output/ecg_qc-v0_6/PAT_52/ecg_qc_EEG_706_s2...</td>\n",
       "      <td>EEG_706</td>\n",
       "      <td>PAT_52</td>\n",
       "      <td>0 days 00:45:34</td>\n",
       "      <td>0 days 00:45:30</td>\n",
       "      <td>0 days 00:00:04</td>\n",
       "      <td>0.001463</td>\n",
       "      <td>0.0</td>\n",
       "      <td>0.000000</td>\n",
       "    </tr>\n",
       "    <tr>\n",
       "      <th>88</th>\n",
       "      <td>../output/ecg_qc-v0_6/PAT_42/ecg_qc_EEG_568_s1...</td>\n",
       "      <td>EEG_568</td>\n",
       "      <td>PAT_42</td>\n",
       "      <td>0 days 00:22:38</td>\n",
       "      <td>0 days 00:22:36</td>\n",
       "      <td>0 days 00:00:02</td>\n",
       "      <td>0.001473</td>\n",
       "      <td>0.0</td>\n",
       "      <td>0.000000</td>\n",
       "    </tr>\n",
       "    <tr>\n",
       "      <th>...</th>\n",
       "      <td>...</td>\n",
       "      <td>...</td>\n",
       "      <td>...</td>\n",
       "      <td>...</td>\n",
       "      <td>...</td>\n",
       "      <td>...</td>\n",
       "      <td>...</td>\n",
       "      <td>...</td>\n",
       "      <td>...</td>\n",
       "    </tr>\n",
       "    <tr>\n",
       "      <th>394</th>\n",
       "      <td>../output/ecg_qc-v0_6/PAT_9/ecg_qc_EEG_103_s25...</td>\n",
       "      <td>EEG_103</td>\n",
       "      <td>PAT_9</td>\n",
       "      <td>0 days 00:00:44</td>\n",
       "      <td>NaT</td>\n",
       "      <td>0 days 00:00:44</td>\n",
       "      <td>NaN</td>\n",
       "      <td>0.0</td>\n",
       "      <td>0.000000</td>\n",
       "    </tr>\n",
       "    <tr>\n",
       "      <th>400</th>\n",
       "      <td>../output/ecg_qc-v0_6/PAT_9/ecg_qc_EEG_103_s3....</td>\n",
       "      <td>EEG_103</td>\n",
       "      <td>PAT_9</td>\n",
       "      <td>0 days 00:04:58</td>\n",
       "      <td>NaT</td>\n",
       "      <td>0 days 00:04:58</td>\n",
       "      <td>NaN</td>\n",
       "      <td>0.0</td>\n",
       "      <td>0.000000</td>\n",
       "    </tr>\n",
       "    <tr>\n",
       "      <th>401</th>\n",
       "      <td>../output/ecg_qc-v0_6/PAT_9/ecg_qc_EEG_103_s4....</td>\n",
       "      <td>EEG_103</td>\n",
       "      <td>PAT_9</td>\n",
       "      <td>0 days 00:00:32</td>\n",
       "      <td>NaT</td>\n",
       "      <td>0 days 00:00:32</td>\n",
       "      <td>NaN</td>\n",
       "      <td>0.0</td>\n",
       "      <td>0.000000</td>\n",
       "    </tr>\n",
       "    <tr>\n",
       "      <th>402</th>\n",
       "      <td>../output/ecg_qc-v0_6/PAT_9/ecg_qc_EEG_103_s5....</td>\n",
       "      <td>EEG_103</td>\n",
       "      <td>PAT_9</td>\n",
       "      <td>0 days 00:03:34</td>\n",
       "      <td>NaT</td>\n",
       "      <td>0 days 00:03:34</td>\n",
       "      <td>NaN</td>\n",
       "      <td>0.0</td>\n",
       "      <td>0.000000</td>\n",
       "    </tr>\n",
       "    <tr>\n",
       "      <th>403</th>\n",
       "      <td>../output/ecg_qc-v0_6/PAT_9/ecg_qc_EEG_103_s6....</td>\n",
       "      <td>EEG_103</td>\n",
       "      <td>PAT_9</td>\n",
       "      <td>0 days 00:00:58</td>\n",
       "      <td>NaT</td>\n",
       "      <td>0 days 00:00:58</td>\n",
       "      <td>NaN</td>\n",
       "      <td>0.0</td>\n",
       "      <td>0.000000</td>\n",
       "    </tr>\n",
       "  </tbody>\n",
       "</table>\n",
       "<p>407 rows × 9 columns</p>\n",
       "</div>"
      ],
      "text/plain": [
       "                                      ecg_qc_file_path  exam_id patient_id  \\\n",
       "242  ../output/ecg_qc-v0_6/PAT_52/ecg_qc_EEG_714_s6...  EEG_714     PAT_52   \n",
       "335  ../output/ecg_qc-v0_6/PAT_6/ecg_qc_EEG_35_s1.t...   EEG_35      PAT_6   \n",
       "263  ../output/ecg_qc-v0_6/PAT_52/ecg_qc_EEG_717_s1...  EEG_717     PAT_52   \n",
       "286  ../output/ecg_qc-v0_6/PAT_52/ecg_qc_EEG_706_s2...  EEG_706     PAT_52   \n",
       "88   ../output/ecg_qc-v0_6/PAT_42/ecg_qc_EEG_568_s1...  EEG_568     PAT_42   \n",
       "..                                                 ...      ...        ...   \n",
       "394  ../output/ecg_qc-v0_6/PAT_9/ecg_qc_EEG_103_s25...  EEG_103      PAT_9   \n",
       "400  ../output/ecg_qc-v0_6/PAT_9/ecg_qc_EEG_103_s3....  EEG_103      PAT_9   \n",
       "401  ../output/ecg_qc-v0_6/PAT_9/ecg_qc_EEG_103_s4....  EEG_103      PAT_9   \n",
       "402  ../output/ecg_qc-v0_6/PAT_9/ecg_qc_EEG_103_s5....  EEG_103      PAT_9   \n",
       "403  ../output/ecg_qc-v0_6/PAT_9/ecg_qc_EEG_103_s6....  EEG_103      PAT_9   \n",
       "\n",
       "       total_length     total_noise     total_clean  ratio_clean  \\\n",
       "242 0 days 05:27:00 0 days 05:26:44 0 days 00:00:16     0.000815   \n",
       "335 0 days 00:32:02 0 days 00:32:00 0 days 00:00:02     0.001041   \n",
       "263 0 days 00:24:40 0 days 00:24:38 0 days 00:00:02     0.001351   \n",
       "286 0 days 00:45:34 0 days 00:45:30 0 days 00:00:04     0.001463   \n",
       "88  0 days 00:22:38 0 days 00:22:36 0 days 00:00:02     0.001473   \n",
       "..              ...             ...             ...          ...   \n",
       "394 0 days 00:00:44             NaT 0 days 00:00:44          NaN   \n",
       "400 0 days 00:04:58             NaT 0 days 00:04:58          NaN   \n",
       "401 0 days 00:00:32             NaT 0 days 00:00:32          NaN   \n",
       "402 0 days 00:03:34             NaT 0 days 00:03:34          NaN   \n",
       "403 0 days 00:00:58             NaT 0 days 00:00:58          NaN   \n",
       "\n",
       "     small_chunks  ratio_small_chunks  \n",
       "242           1.0            0.000204  \n",
       "335           0.0            0.000000  \n",
       "263           0.0            0.000000  \n",
       "286           0.0            0.000000  \n",
       "88            0.0            0.000000  \n",
       "..            ...                 ...  \n",
       "394           0.0            0.000000  \n",
       "400           0.0            0.000000  \n",
       "401           0.0            0.000000  \n",
       "402           0.0            0.000000  \n",
       "403           0.0            0.000000  \n",
       "\n",
       "[407 rows x 9 columns]"
      ]
     },
     "execution_count": 9,
     "metadata": {},
     "output_type": "execute_result"
    }
   ],
   "source": [
    "# Top clean\n",
    "df.sort_values('ratio_clean', ascending=True)"
   ]
  },
  {
   "cell_type": "code",
   "execution_count": 10,
   "id": "39ecd5e2",
   "metadata": {},
   "outputs": [
    {
     "data": {
      "text/plain": [
       "0.3185672087432875"
      ]
     },
     "execution_count": 10,
     "metadata": {},
     "output_type": "execute_result"
    }
   ],
   "source": [
    "# Ratio clean/noise\n",
    "df['total_clean'].dt.seconds.sum() / df['total_length'].dt.seconds.sum()"
   ]
  },
  {
   "cell_type": "code",
   "execution_count": 11,
   "id": "230965d0",
   "metadata": {},
   "outputs": [
    {
     "data": {
      "text/plain": [
       "<seaborn.axisgrid.FacetGrid at 0x7fdffe687da0>"
      ]
     },
     "execution_count": 11,
     "metadata": {},
     "output_type": "execute_result"
    },
    {
     "data": {
      "image/png": "[encoded data removed]",
      "text/plain": [
       "<Figure size 360x360 with 1 Axes>"
      ]
     },
     "metadata": {
      "needs_background": "light"
     },
     "output_type": "display_data"
    }
   ],
   "source": [
    "# Small chunks are scarse\n",
    "sns.displot(df['small_chunks'], kind='kde')"
   ]
  },
  {
   "cell_type": "code",
   "execution_count": 12,
   "id": "5e64c2db",
   "metadata": {},
   "outputs": [
    {
     "data": {
      "text/plain": [
       "<seaborn.axisgrid.FacetGrid at 0x7fdfac9fe470>"
      ]
     },
     "execution_count": 12,
     "metadata": {},
     "output_type": "execute_result"
    },
    {
     "data": {
      "image/png": "[encoded data removed]",
      "text/plain": [
       "<Figure size 360x360 with 1 Axes>"
      ]
     },
     "metadata": {
      "needs_background": "light"
     },
     "output_type": "display_data"
    }
   ],
   "source": [
    "# Small chunks are scarse\n",
    "sns.displot(df['ratio_small_chunks'], kind='kde')"
   ]
  },
  {
   "cell_type": "code",
   "execution_count": 13,
   "id": "cd373f3d",
   "metadata": {
    "scrolled": true
   },
   "outputs": [
    {
     "data": {
      "text/plain": [
       "<seaborn.axisgrid.FacetGrid at 0x7fdfb6ab2438>"
      ]
     },
     "execution_count": 13,
     "metadata": {},
     "output_type": "execute_result"
    },
    {
     "data": {
      "image/png": "[encoded data removed]",
      "text/plain": [
       "<Figure size 360x360 with 1 Axes>"
      ]
     },
     "metadata": {
      "needs_background": "light"
     },
     "output_type": "display_data"
    }
   ],
   "source": [
    "# They are quite rare\n",
    "sns.displot(df[df['small_chunks'] <= 50]['small_chunks'], kind='kde')"
   ]
  },
  {
   "cell_type": "code",
   "execution_count": 14,
   "id": "2db3e55c",
   "metadata": {},
   "outputs": [
    {
     "data": {
      "text/plain": [
       "<seaborn.axisgrid.FacetGrid at 0x7fdffe687710>"
      ]
     },
     "execution_count": 14,
     "metadata": {},
     "output_type": "execute_result"
    },
    {
     "data": {
      "image/png": "[encoded data removed]",
      "text/plain": [
       "<Figure size 360x360 with 1 Axes>"
      ]
     },
     "metadata": {
      "needs_background": "light"
     },
     "output_type": "display_data"
    }
   ],
   "source": [
    "sns.displot(df['ratio_clean'], kind='kde')"
   ]
  },
  {
   "cell_type": "code",
   "execution_count": 15,
   "id": "e23d9a38",
   "metadata": {},
   "outputs": [
    {
     "data": {
      "text/plain": [
       "<seaborn.axisgrid.FacetGrid at 0x7fdffe687a20>"
      ]
     },
     "execution_count": 15,
     "metadata": {},
     "output_type": "execute_result"
    },
    {
     "data": {
      "image/png": "[encoded data removed]",
      "text/plain": [
       "<Figure size 360x360 with 1 Axes>"
      ]
     },
     "metadata": {
      "needs_background": "light"
     },
     "output_type": "display_data"
    }
   ],
   "source": [
    "sns.displot(df['ratio_clean'])"
   ]
  },
  {
   "cell_type": "code",
   "execution_count": 16,
   "id": "9130f1c1",
   "metadata": {
    "scrolled": true
   },
   "outputs": [
    {
     "data": {
      "text/plain": [
       "<seaborn.axisgrid.FacetGrid at 0x7fdfac8fd908>"
      ]
     },
     "execution_count": 16,
     "metadata": {},
     "output_type": "execute_result"
    },
    {
     "data": {
      "image/png": "[encoded data removed]",
      "text/plain": [
       "<Figure size 360x360 with 1 Axes>"
      ]
     },
     "metadata": {
      "needs_background": "light"
     },
     "output_type": "display_data"
    }
   ],
   "source": [
    "sns.displot(df['total_length'].dt.seconds/3600)"
   ]
  },
  {
   "cell_type": "code",
   "execution_count": 17,
   "id": "4e3a3c21",
   "metadata": {},
   "outputs": [
    {
     "data": {
      "text/plain": [
       "0.32186732186732187"
      ]
     },
     "execution_count": 17,
     "metadata": {},
     "output_type": "execute_result"
    }
   ],
   "source": [
    "# with good quality\n",
    "(df[df['ratio_clean'] > 0.5]).shape[0] / df.shape[0]"
   ]
  },
  {
   "cell_type": "code",
   "execution_count": 18,
   "id": "691fc93a",
   "metadata": {},
   "outputs": [
    {
     "data": {
      "text/plain": [
       "0.384051013968929"
      ]
     },
     "execution_count": 18,
     "metadata": {},
     "output_type": "execute_result"
    }
   ],
   "source": [
    "# % for goog quality length\n",
    "df[df['ratio_clean'] > 0.5]['total_length'].dt.seconds.sum() / df['total_length'].dt.seconds.sum()"
   ]
  }
 ],
 "metadata": {
  "interpreter": {
   "hash": "ce8ad54ff0c21d76b9d2b2c70378af31077ad0766af937406802e3e7962ef6ad"
  },
  "kernelspec": {
   "display_name": "Python 3.6.8 ('env': venv)",
   "language": "python",
   "name": "python3"
  },
  "language_info": {
   "codemirror_mode": {
    "name": "ipython",
    "version": 3
   },
   "file_extension": ".py",
   "mimetype": "text/x-python",
   "name": "python",
   "nbconvert_exporter": "python",
   "pygments_lexer": "ipython3",
   "version": "3.6.8"
  }
 },
 "nbformat": 4,
 "nbformat_minor": 5
}
